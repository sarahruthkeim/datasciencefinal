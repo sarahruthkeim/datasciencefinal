{
 "cells": [
  {
   "cell_type": "code",
   "execution_count": 1,
   "metadata": {
    "_cell_guid": "b1076dfc-b9ad-4769-8c92-a6c4dae69d19",
    "_uuid": "8f2839f25d086af736a60e9eeb907d3b93b6e0e5",
    "execution": {
     "iopub.execute_input": "2022-12-16T02:00:25.992141Z",
     "iopub.status.busy": "2022-12-16T02:00:25.991696Z",
     "iopub.status.idle": "2022-12-16T02:00:26.001018Z",
     "shell.execute_reply": "2022-12-16T02:00:26.000300Z",
     "shell.execute_reply.started": "2022-12-16T02:00:25.992086Z"
    }
   },
   "outputs": [
    {
     "name": "stdout",
     "output_type": "stream",
     "text": [
      "/kaggle/input/real-or-fake-fake-jobposting-prediction/fake_job_postings.csv\n"
     ]
    }
   ],
   "source": [
    "##anything with two ## is something I commented/something I wrote/changed\n",
    "\n",
    "# This Python 3 environment comes with many helpful analytics libraries installed\n",
    "# It is defined by the kaggle/python docker image: https://github.com/kaggle/docker-python\n",
    "# For example, here's several helpful packages to load in \n",
    "\n",
    "import numpy as np # linear algebra\n",
    "import pandas as pd # data processing, CSV file I/O (e.g. pd.read_csv)\n",
    "\n",
    "# Input data files are available in the \"../input/\" directory.\n",
    "# For example, running this (by clicking run or pressing Shift+Enter) will list all files under the input directory\n",
    "\n",
    "import os\n",
    "for dirname, _, filenames in os.walk('/kaggle/input'):\n",
    "    for filename in filenames:\n",
    "        print(os.path.join(dirname, filename))\n",
    "\n",
    "# Any results you write to the current directory are saved as output."
   ]
  },
  {
   "cell_type": "markdown",
   "metadata": {},
   "source": [
    "Welcome! In this notebook, I will be going through a complete data science workflow starting with data cleaning, EDA, and various model interations! Enjoy!\n",
    "\n",
    "**Model Results**\n",
    "\n",
    "|Model|AUC Score|\n",
    "|---|---|\n",
    "|Baseline - Logistic Regression using TFIDF data| 0.58|\n",
    "|Logistic Regression using Count Vectorizer Data| 0.55|\n",
    "|KNN| 0.58|\n",
    "|SVC| 0.53|\n",
    "|Random Forest| 0.52|\n",
    "|Neural Network - MLPClassifier w/ 'lbfgs'| 0.69|\n",
    "|**Neural Network - MLPClassifer w/ 'adam'**|**0.727**|"
   ]
  },
  {
   "cell_type": "code",
   "execution_count": 2,
   "metadata": {
    "_cell_guid": "79c7e3d0-c299-4dcb-8224-4455121ee9b0",
    "_uuid": "d629ff2d2480ee46fbb7e2d37f6b5fab8052498a",
    "execution": {
     "iopub.execute_input": "2022-12-16T02:00:26.009054Z",
     "iopub.status.busy": "2022-12-16T02:00:26.008725Z",
     "iopub.status.idle": "2022-12-16T02:00:26.021789Z",
     "shell.execute_reply": "2022-12-16T02:00:26.020767Z",
     "shell.execute_reply.started": "2022-12-16T02:00:26.009024Z"
    }
   },
   "outputs": [],
   "source": [
    "#importing the holy trinity of data science packages\n",
    "import pandas as pd \n",
    "import numpy as np\n",
    "import matplotlib.pyplot as plt\n",
    "\n",
    "#Other visualization packages\n",
    "import seaborn as sns\n",
    "\n",
    "#Importing NLP plugins\n",
    "from nltk.corpus import stopwords \n",
    "stop_words = stopwords.words('english')\n",
    "from nltk.stem import WordNetLemmatizer \n",
    "import string\n",
    "\n",
    "from sklearn.feature_extraction.text import TfidfVectorizer\n",
    "from sklearn.feature_extraction.text import CountVectorizer\n",
    "\n",
    "#Importing our Sklearn Plugins\n",
    "from sklearn.model_selection import train_test_split\n",
    "from sklearn.compose import ColumnTransformer\n",
    "from sklearn import preprocessing\n",
    "from sklearn.preprocessing import OneHotEncoder\n",
    "from sklearn.pipeline import make_pipeline\n",
    "from sklearn.pipeline import Pipeline\n",
    "from sklearn.model_selection import GridSearchCV\n",
    "\n",
    "#importing our models\n",
    "from sklearn.linear_model import LogisticRegression\n",
    "from sklearn.neighbors import KNeighborsClassifier\n",
    "from sklearn.svm import SVC\n",
    "from sklearn.ensemble import RandomForestClassifier\n",
    "from sklearn.neural_network import MLPClassifier\n",
    "\n",
    "#Model Evaluation\n",
    "from sklearn.metrics import accuracy_score\n",
    "from sklearn.metrics import confusion_matrix\n",
    "from sklearn.metrics import classification_report\n",
    "from sklearn.metrics import roc_auc_score"
   ]
  },
  {
   "cell_type": "markdown",
   "metadata": {},
   "source": [
    "# Part 1: Data Cleaning"
   ]
  },
  {
   "cell_type": "code",
   "execution_count": 3,
   "metadata": {
    "execution": {
     "iopub.execute_input": "2022-12-16T02:00:26.030520Z",
     "iopub.status.busy": "2022-12-16T02:00:26.029870Z",
     "iopub.status.idle": "2022-12-16T02:00:26.561615Z",
     "shell.execute_reply": "2022-12-16T02:00:26.560280Z",
     "shell.execute_reply.started": "2022-12-16T02:00:26.030469Z"
    }
   },
   "outputs": [
    {
     "data": {
      "text/plain": [
       "(17880, 18)"
      ]
     },
     "execution_count": 3,
     "metadata": {},
     "output_type": "execute_result"
    }
   ],
   "source": [
    "df = pd.read_csv(\"../input/real-or-fake-fake-jobposting-prediction/fake_job_postings.csv\")\n",
    "df.shape"
   ]
  },
  {
   "cell_type": "code",
   "execution_count": 4,
   "metadata": {
    "execution": {
     "iopub.execute_input": "2022-12-16T02:00:26.564694Z",
     "iopub.status.busy": "2022-12-16T02:00:26.564073Z",
     "iopub.status.idle": "2022-12-16T02:00:26.589423Z",
     "shell.execute_reply": "2022-12-16T02:00:26.588385Z",
     "shell.execute_reply.started": "2022-12-16T02:00:26.564649Z"
    }
   },
   "outputs": [
    {
     "data": {
      "text/html": [
       "<div>\n",
       "<style scoped>\n",
       "    .dataframe tbody tr th:only-of-type {\n",
       "        vertical-align: middle;\n",
       "    }\n",
       "\n",
       "    .dataframe tbody tr th {\n",
       "        vertical-align: top;\n",
       "    }\n",
       "\n",
       "    .dataframe thead th {\n",
       "        text-align: right;\n",
       "    }\n",
       "</style>\n",
       "<table border=\"1\" class=\"dataframe\">\n",
       "  <thead>\n",
       "    <tr style=\"text-align: right;\">\n",
       "      <th></th>\n",
       "      <th>job_id</th>\n",
       "      <th>title</th>\n",
       "      <th>location</th>\n",
       "      <th>department</th>\n",
       "      <th>salary_range</th>\n",
       "      <th>company_profile</th>\n",
       "      <th>description</th>\n",
       "      <th>requirements</th>\n",
       "      <th>benefits</th>\n",
       "      <th>telecommuting</th>\n",
       "      <th>has_company_logo</th>\n",
       "      <th>has_questions</th>\n",
       "      <th>employment_type</th>\n",
       "      <th>required_experience</th>\n",
       "      <th>required_education</th>\n",
       "      <th>industry</th>\n",
       "      <th>function</th>\n",
       "      <th>fraudulent</th>\n",
       "    </tr>\n",
       "  </thead>\n",
       "  <tbody>\n",
       "    <tr>\n",
       "      <th>0</th>\n",
       "      <td>1</td>\n",
       "      <td>Marketing Intern</td>\n",
       "      <td>US, NY, New York</td>\n",
       "      <td>Marketing</td>\n",
       "      <td>NaN</td>\n",
       "      <td>We're Food52, and we've created a groundbreaki...</td>\n",
       "      <td>Food52, a fast-growing, James Beard Award-winn...</td>\n",
       "      <td>Experience with content management systems a m...</td>\n",
       "      <td>NaN</td>\n",
       "      <td>0</td>\n",
       "      <td>1</td>\n",
       "      <td>0</td>\n",
       "      <td>Other</td>\n",
       "      <td>Internship</td>\n",
       "      <td>NaN</td>\n",
       "      <td>NaN</td>\n",
       "      <td>Marketing</td>\n",
       "      <td>0</td>\n",
       "    </tr>\n",
       "    <tr>\n",
       "      <th>1</th>\n",
       "      <td>2</td>\n",
       "      <td>Customer Service - Cloud Video Production</td>\n",
       "      <td>NZ, , Auckland</td>\n",
       "      <td>Success</td>\n",
       "      <td>NaN</td>\n",
       "      <td>90 Seconds, the worlds Cloud Video Production ...</td>\n",
       "      <td>Organised - Focused - Vibrant - Awesome!Do you...</td>\n",
       "      <td>What we expect from you:Your key responsibilit...</td>\n",
       "      <td>What you will get from usThrough being part of...</td>\n",
       "      <td>0</td>\n",
       "      <td>1</td>\n",
       "      <td>0</td>\n",
       "      <td>Full-time</td>\n",
       "      <td>Not Applicable</td>\n",
       "      <td>NaN</td>\n",
       "      <td>Marketing and Advertising</td>\n",
       "      <td>Customer Service</td>\n",
       "      <td>0</td>\n",
       "    </tr>\n",
       "    <tr>\n",
       "      <th>2</th>\n",
       "      <td>3</td>\n",
       "      <td>Commissioning Machinery Assistant (CMA)</td>\n",
       "      <td>US, IA, Wever</td>\n",
       "      <td>NaN</td>\n",
       "      <td>NaN</td>\n",
       "      <td>Valor Services provides Workforce Solutions th...</td>\n",
       "      <td>Our client, located in Houston, is actively se...</td>\n",
       "      <td>Implement pre-commissioning and commissioning ...</td>\n",
       "      <td>NaN</td>\n",
       "      <td>0</td>\n",
       "      <td>1</td>\n",
       "      <td>0</td>\n",
       "      <td>NaN</td>\n",
       "      <td>NaN</td>\n",
       "      <td>NaN</td>\n",
       "      <td>NaN</td>\n",
       "      <td>NaN</td>\n",
       "      <td>0</td>\n",
       "    </tr>\n",
       "  </tbody>\n",
       "</table>\n",
       "</div>"
      ],
      "text/plain": [
       "   job_id                                      title          location  \\\n",
       "0       1                           Marketing Intern  US, NY, New York   \n",
       "1       2  Customer Service - Cloud Video Production    NZ, , Auckland   \n",
       "2       3    Commissioning Machinery Assistant (CMA)     US, IA, Wever   \n",
       "\n",
       "  department salary_range                                    company_profile  \\\n",
       "0  Marketing          NaN  We're Food52, and we've created a groundbreaki...   \n",
       "1    Success          NaN  90 Seconds, the worlds Cloud Video Production ...   \n",
       "2        NaN          NaN  Valor Services provides Workforce Solutions th...   \n",
       "\n",
       "                                         description  \\\n",
       "0  Food52, a fast-growing, James Beard Award-winn...   \n",
       "1  Organised - Focused - Vibrant - Awesome!Do you...   \n",
       "2  Our client, located in Houston, is actively se...   \n",
       "\n",
       "                                        requirements  \\\n",
       "0  Experience with content management systems a m...   \n",
       "1  What we expect from you:Your key responsibilit...   \n",
       "2  Implement pre-commissioning and commissioning ...   \n",
       "\n",
       "                                            benefits  telecommuting  \\\n",
       "0                                                NaN              0   \n",
       "1  What you will get from usThrough being part of...              0   \n",
       "2                                                NaN              0   \n",
       "\n",
       "   has_company_logo  has_questions employment_type required_experience  \\\n",
       "0                 1              0           Other          Internship   \n",
       "1                 1              0       Full-time      Not Applicable   \n",
       "2                 1              0             NaN                 NaN   \n",
       "\n",
       "  required_education                   industry          function  fraudulent  \n",
       "0                NaN                        NaN         Marketing           0  \n",
       "1                NaN  Marketing and Advertising  Customer Service           0  \n",
       "2                NaN                        NaN               NaN           0  "
      ]
     },
     "execution_count": 4,
     "metadata": {},
     "output_type": "execute_result"
    }
   ],
   "source": [
    "df.head(3)"
   ]
  },
  {
   "cell_type": "markdown",
   "metadata": {},
   "source": [
    "## Data Dicitonary\n",
    "There are 17880 rows with 18 features.\n",
    "\n",
    "|Column/Feature|Discription|\n",
    "|---|---|\n",
    "|job_id|Unique Job ID|\n",
    "|title|The title of the job ad entry.|\n",
    "|location|Geographical location of the job ad.|\n",
    "|department|Corporate department (e.g. sales).|\n",
    "|salary_range|Indicative salary range (e.g. $50,000-$60,000)|\n",
    "|company_profile|A brief company description.|\n",
    "|description|The details description of the job ad.|\n",
    "|requirment|Enlisted requirements for the job opening.|\n",
    "|benefits|Enlisted offered benefits by the employer.|\n",
    "|telecommuting|True for telecommuting positions.|\n",
    "|has_company_logo|True if company logo is present.|\n",
    "|has_questions|True if screening questions are present.|\n",
    "|employment_type|Full-type, Part-time, Contract, etc.|\n",
    "|required_experience|Executive, Entry level, Intern, etc.|\n",
    "|required_education|Doctorate, Master’s Degree, Bachelor, etc.|\n",
    "|industry|Automotive, IT, Health care, Real estate, etc.|\n",
    "|function|Consulting, Engineering, Research, Sales etc.|\n",
    "|fradulent|target - Classification attribute.|\n",
    "\n",
    "**Target Variable** = fradulent (1 or 0) with 1 being fradulent"
   ]
  },
  {
   "cell_type": "code",
   "execution_count": 5,
   "metadata": {
    "execution": {
     "iopub.execute_input": "2022-12-16T02:00:26.592108Z",
     "iopub.status.busy": "2022-12-16T02:00:26.591595Z",
     "iopub.status.idle": "2022-12-16T02:00:26.617284Z",
     "shell.execute_reply": "2022-12-16T02:00:26.616412Z",
     "shell.execute_reply.started": "2022-12-16T02:00:26.592070Z"
    }
   },
   "outputs": [
    {
     "name": "stdout",
     "output_type": "stream",
     "text": [
      "<class 'pandas.core.frame.DataFrame'>\n",
      "RangeIndex: 17880 entries, 0 to 17879\n",
      "Data columns (total 18 columns):\n",
      "job_id                 17880 non-null int64\n",
      "title                  17880 non-null object\n",
      "location               17534 non-null object\n",
      "department             6333 non-null object\n",
      "salary_range           2868 non-null object\n",
      "company_profile        14572 non-null object\n",
      "description            17879 non-null object\n",
      "requirements           15185 non-null object\n",
      "benefits               10670 non-null object\n",
      "telecommuting          17880 non-null int64\n",
      "has_company_logo       17880 non-null int64\n",
      "has_questions          17880 non-null int64\n",
      "employment_type        14409 non-null object\n",
      "required_experience    10830 non-null object\n",
      "required_education     9775 non-null object\n",
      "industry               12977 non-null object\n",
      "function               11425 non-null object\n",
      "fraudulent             17880 non-null int64\n",
      "dtypes: int64(5), object(13)\n",
      "memory usage: 2.5+ MB\n"
     ]
    }
   ],
   "source": [
    "#Checking our Data Types\n",
    "df.info()"
   ]
  },
  {
   "cell_type": "code",
   "execution_count": 6,
   "metadata": {
    "execution": {
     "iopub.execute_input": "2022-12-16T02:00:26.619506Z",
     "iopub.status.busy": "2022-12-16T02:00:26.618869Z",
     "iopub.status.idle": "2022-12-16T02:00:26.645785Z",
     "shell.execute_reply": "2022-12-16T02:00:26.644428Z",
     "shell.execute_reply.started": "2022-12-16T02:00:26.619467Z"
    }
   },
   "outputs": [
    {
     "data": {
      "text/plain": [
       "job_id                 0.000000\n",
       "title                  0.000000\n",
       "location               0.019351\n",
       "department             0.645805\n",
       "salary_range           0.839597\n",
       "company_profile        0.185011\n",
       "description            0.000056\n",
       "requirements           0.150727\n",
       "benefits               0.403244\n",
       "telecommuting          0.000000\n",
       "has_company_logo       0.000000\n",
       "has_questions          0.000000\n",
       "employment_type        0.194128\n",
       "required_experience    0.394295\n",
       "required_education     0.453300\n",
       "industry               0.274217\n",
       "function               0.361018\n",
       "fraudulent             0.000000\n",
       "dtype: float64"
      ]
     },
     "execution_count": 6,
     "metadata": {},
     "output_type": "execute_result"
    }
   ],
   "source": [
    "#Check percentage of data missing for each feature/column\n",
    "df.isna().sum()/len(df)"
   ]
  },
  {
   "cell_type": "code",
   "execution_count": 7,
   "metadata": {
    "execution": {
     "iopub.execute_input": "2022-12-16T02:00:26.649505Z",
     "iopub.status.busy": "2022-12-16T02:00:26.649200Z",
     "iopub.status.idle": "2022-12-16T02:00:26.744819Z",
     "shell.execute_reply": "2022-12-16T02:00:26.743861Z",
     "shell.execute_reply.started": "2022-12-16T02:00:26.649474Z"
    }
   },
   "outputs": [
    {
     "data": {
      "text/plain": [
       "job_id                 17880\n",
       "title                  11231\n",
       "location                3105\n",
       "department              1337\n",
       "salary_range             874\n",
       "company_profile         1709\n",
       "description            14801\n",
       "requirements           11968\n",
       "benefits                6205\n",
       "telecommuting              2\n",
       "has_company_logo           2\n",
       "has_questions              2\n",
       "employment_type            5\n",
       "required_experience        7\n",
       "required_education        13\n",
       "industry                 131\n",
       "function                  37\n",
       "fraudulent                 2\n",
       "dtype: int64"
      ]
     },
     "execution_count": 7,
     "metadata": {},
     "output_type": "execute_result"
    }
   ],
   "source": [
    "#Checking for unique elements for each column\n",
    "df.nunique()"
   ]
  },
  {
   "cell_type": "markdown",
   "metadata": {},
   "source": [
    "Just from a quick glance my data, it seems that there is quite a few features that have a lot of missing rows. As such, **I will delete the various columns:**\n",
    "\n",
    "1. job_id because my DataFrame already has a built in index. \n",
    "2. salary_range because around 84% of the data is missing\n",
    "3. department because around 65% of the data is missing\n",
    "4. benefits because 40% of the data is missing\n",
    "5. company_profile because I want to combine the description + requirements columns to one features, in order to perform a tfidf vectorizer on it later on. \n",
    "\n",
    "The rest of the columns will be filled out in a methedolical order. "
   ]
  },
  {
   "cell_type": "code",
   "execution_count": 8,
   "metadata": {
    "execution": {
     "iopub.execute_input": "2022-12-16T02:00:26.748679Z",
     "iopub.status.busy": "2022-12-16T02:00:26.748140Z",
     "iopub.status.idle": "2022-12-16T02:00:26.762823Z",
     "shell.execute_reply": "2022-12-16T02:00:26.761101Z",
     "shell.execute_reply.started": "2022-12-16T02:00:26.748640Z"
    }
   },
   "outputs": [],
   "source": [
    "# Always good practice to make a copy of your dataframe ever so often,\n",
    "# so you can roll back your mistakes much easier than rerunning your whole kernal again.\n",
    "df_2 = df.copy()\n",
    "df_2 = df_2.drop(labels = ['job_id','salary_range',\n",
    "                    'department','benefits',\n",
    "                    'company_profile'], axis = 1) #axis = 1 to refer droping columns"
   ]
  },
  {
   "cell_type": "code",
   "execution_count": 9,
   "metadata": {
    "execution": {
     "iopub.execute_input": "2022-12-16T02:00:26.765058Z",
     "iopub.status.busy": "2022-12-16T02:00:26.764741Z",
     "iopub.status.idle": "2022-12-16T02:00:26.786651Z",
     "shell.execute_reply": "2022-12-16T02:00:26.785330Z",
     "shell.execute_reply.started": "2022-12-16T02:00:26.765027Z"
    }
   },
   "outputs": [
    {
     "data": {
      "text/html": [
       "<div>\n",
       "<style scoped>\n",
       "    .dataframe tbody tr th:only-of-type {\n",
       "        vertical-align: middle;\n",
       "    }\n",
       "\n",
       "    .dataframe tbody tr th {\n",
       "        vertical-align: top;\n",
       "    }\n",
       "\n",
       "    .dataframe thead th {\n",
       "        text-align: right;\n",
       "    }\n",
       "</style>\n",
       "<table border=\"1\" class=\"dataframe\">\n",
       "  <thead>\n",
       "    <tr style=\"text-align: right;\">\n",
       "      <th></th>\n",
       "      <th>title</th>\n",
       "      <th>location</th>\n",
       "      <th>description</th>\n",
       "      <th>requirements</th>\n",
       "      <th>telecommuting</th>\n",
       "      <th>has_company_logo</th>\n",
       "      <th>has_questions</th>\n",
       "      <th>employment_type</th>\n",
       "      <th>required_experience</th>\n",
       "      <th>required_education</th>\n",
       "      <th>industry</th>\n",
       "      <th>function</th>\n",
       "      <th>fraudulent</th>\n",
       "    </tr>\n",
       "  </thead>\n",
       "  <tbody>\n",
       "    <tr>\n",
       "      <th>17877</th>\n",
       "      <td>Project Cost Control Staff Engineer - Cost Con...</td>\n",
       "      <td>US, TX, Houston</td>\n",
       "      <td>Experienced Project Cost Control Staff Enginee...</td>\n",
       "      <td>At least 12 years professional experience.Abil...</td>\n",
       "      <td>0</td>\n",
       "      <td>0</td>\n",
       "      <td>0</td>\n",
       "      <td>Full-time</td>\n",
       "      <td>NaN</td>\n",
       "      <td>NaN</td>\n",
       "      <td>NaN</td>\n",
       "      <td>NaN</td>\n",
       "      <td>0</td>\n",
       "    </tr>\n",
       "    <tr>\n",
       "      <th>17878</th>\n",
       "      <td>Graphic Designer</td>\n",
       "      <td>NG, LA, Lagos</td>\n",
       "      <td>Nemsia Studios is looking for an experienced v...</td>\n",
       "      <td>1. Must be fluent in the latest versions of Co...</td>\n",
       "      <td>0</td>\n",
       "      <td>0</td>\n",
       "      <td>1</td>\n",
       "      <td>Contract</td>\n",
       "      <td>Not Applicable</td>\n",
       "      <td>Professional</td>\n",
       "      <td>Graphic Design</td>\n",
       "      <td>Design</td>\n",
       "      <td>0</td>\n",
       "    </tr>\n",
       "    <tr>\n",
       "      <th>17879</th>\n",
       "      <td>Web Application Developers</td>\n",
       "      <td>NZ, N, Wellington</td>\n",
       "      <td>Who are we?Vend is an award winning web based ...</td>\n",
       "      <td>We want to hear from you if:You have an in-dep...</td>\n",
       "      <td>0</td>\n",
       "      <td>1</td>\n",
       "      <td>1</td>\n",
       "      <td>Full-time</td>\n",
       "      <td>Mid-Senior level</td>\n",
       "      <td>NaN</td>\n",
       "      <td>Computer Software</td>\n",
       "      <td>Engineering</td>\n",
       "      <td>0</td>\n",
       "    </tr>\n",
       "  </tbody>\n",
       "</table>\n",
       "</div>"
      ],
      "text/plain": [
       "                                                   title           location  \\\n",
       "17877  Project Cost Control Staff Engineer - Cost Con...    US, TX, Houston   \n",
       "17878                                   Graphic Designer      NG, LA, Lagos   \n",
       "17879                         Web Application Developers  NZ, N, Wellington   \n",
       "\n",
       "                                             description  \\\n",
       "17877  Experienced Project Cost Control Staff Enginee...   \n",
       "17878  Nemsia Studios is looking for an experienced v...   \n",
       "17879  Who are we?Vend is an award winning web based ...   \n",
       "\n",
       "                                            requirements  telecommuting  \\\n",
       "17877  At least 12 years professional experience.Abil...              0   \n",
       "17878  1. Must be fluent in the latest versions of Co...              0   \n",
       "17879  We want to hear from you if:You have an in-dep...              0   \n",
       "\n",
       "       has_company_logo  has_questions employment_type required_experience  \\\n",
       "17877                 0              0       Full-time                 NaN   \n",
       "17878                 0              1        Contract      Not Applicable   \n",
       "17879                 1              1       Full-time    Mid-Senior level   \n",
       "\n",
       "      required_education           industry     function  fraudulent  \n",
       "17877                NaN                NaN          NaN           0  \n",
       "17878       Professional     Graphic Design       Design           0  \n",
       "17879                NaN  Computer Software  Engineering           0  "
      ]
     },
     "execution_count": 9,
     "metadata": {},
     "output_type": "execute_result"
    }
   ],
   "source": [
    "df_2.tail(3)"
   ]
  },
  {
   "cell_type": "markdown",
   "metadata": {},
   "source": [
    "Filling missing values for **employment_type**, **required_experience**, **required_education**, **industry**, **function** using the pandas bfill function. I did this because these features had the fewest unique elements for a non-binary feature.\n",
    "\n",
    "> *Pandas bfill is a function that is used with the fillna function to back fill the values in a dataframe. Thus, if there is a NaN cell then bfill will replace that NaN value with the next row or column based on the axis equaling to 0 or 1.*"
   ]
  },
  {
   "cell_type": "code",
   "execution_count": 10,
   "metadata": {
    "execution": {
     "iopub.execute_input": "2022-12-16T02:00:26.789457Z",
     "iopub.status.busy": "2022-12-16T02:00:26.789011Z",
     "iopub.status.idle": "2022-12-16T02:00:26.810803Z",
     "shell.execute_reply": "2022-12-16T02:00:26.809735Z",
     "shell.execute_reply.started": "2022-12-16T02:00:26.789409Z"
    }
   },
   "outputs": [],
   "source": [
    "df_2['employment_type'] = df_2['employment_type'].bfill(axis=0)\n",
    "df_2['required_experience'] = df_2['required_experience'].bfill(axis = 0)\n",
    "df_2['required_education'] = df_2['required_education'].bfill(axis = 0)\n",
    "df_2['industry'] = df_2['industry'].bfill(axis = 0)\n",
    "df_2['function'] = df_2['function'].bfill(axis = 0)"
   ]
  },
  {
   "cell_type": "markdown",
   "metadata": {},
   "source": [
    "Next step is to append the *description* column and *requirments* column together into one column. However, before I do this, **I want to avoid the NaN values in both of these columns.** In order to do so since there is a small number of missing rows in the description column, I will drop those rows first. From there, I will fill in all NaN values in the *requirments* column with \" \" aka. blank string. \n",
    "\n",
    "In addition I will drop duplicated description columns as well, prior to the great concatenation. "
   ]
  },
  {
   "cell_type": "code",
   "execution_count": 11,
   "metadata": {
    "execution": {
     "iopub.execute_input": "2022-12-16T02:00:26.813481Z",
     "iopub.status.busy": "2022-12-16T02:00:26.812941Z",
     "iopub.status.idle": "2022-12-16T02:00:26.839718Z",
     "shell.execute_reply": "2022-12-16T02:00:26.838467Z",
     "shell.execute_reply.started": "2022-12-16T02:00:26.813410Z"
    }
   },
   "outputs": [],
   "source": [
    "# Make Dataframe copy\n",
    "df_3 = df_2.copy()\n",
    "\n",
    "# Keeping non NaN rows in my new dataframe\n",
    "df_3 = df_3[df_3['description'].notna()]\n",
    "\n",
    "# Replacing NaNs with an empty string.\n",
    "#df_3 = df_3.replace(np.nan, '', regex = True)"
   ]
  },
  {
   "cell_type": "code",
   "execution_count": 12,
   "metadata": {
    "execution": {
     "iopub.execute_input": "2022-12-16T02:00:26.841965Z",
     "iopub.status.busy": "2022-12-16T02:00:26.841565Z",
     "iopub.status.idle": "2022-12-16T02:00:26.865275Z",
     "shell.execute_reply": "2022-12-16T02:00:26.864260Z",
     "shell.execute_reply.started": "2022-12-16T02:00:26.841917Z"
    }
   },
   "outputs": [],
   "source": [
    "# For good measure let's drop any other Nans \n",
    "df_3 = df_3.dropna(axis = 0, how = 'any')"
   ]
  },
  {
   "cell_type": "code",
   "execution_count": 13,
   "metadata": {
    "execution": {
     "iopub.execute_input": "2022-12-16T02:00:26.867273Z",
     "iopub.status.busy": "2022-12-16T02:00:26.866889Z",
     "iopub.status.idle": "2022-12-16T02:00:26.873509Z",
     "shell.execute_reply": "2022-12-16T02:00:26.872320Z",
     "shell.execute_reply.started": "2022-12-16T02:00:26.867211Z"
    }
   },
   "outputs": [
    {
     "name": "stdout",
     "output_type": "stream",
     "text": [
      "We currenlty have 15014 rows. However, let's drop duplicates and compare.\n"
     ]
    }
   ],
   "source": [
    "print(f'We currenlty have {len(df_3)} rows. However, let\\'s drop duplicates and compare.')"
   ]
  },
  {
   "cell_type": "code",
   "execution_count": 14,
   "metadata": {
    "execution": {
     "iopub.execute_input": "2022-12-16T02:00:26.875461Z",
     "iopub.status.busy": "2022-12-16T02:00:26.875091Z",
     "iopub.status.idle": "2022-12-16T02:00:27.017456Z",
     "shell.execute_reply": "2022-12-16T02:00:27.015850Z",
     "shell.execute_reply.started": "2022-12-16T02:00:26.875417Z"
    }
   },
   "outputs": [],
   "source": [
    "# drop duplicates\n",
    "df_3 = df_3.drop_duplicates(keep = 'first')"
   ]
  },
  {
   "cell_type": "code",
   "execution_count": 15,
   "metadata": {
    "execution": {
     "iopub.execute_input": "2022-12-16T02:00:27.019864Z",
     "iopub.status.busy": "2022-12-16T02:00:27.019467Z",
     "iopub.status.idle": "2022-12-16T02:00:27.040762Z",
     "shell.execute_reply": "2022-12-16T02:00:27.039522Z",
     "shell.execute_reply.started": "2022-12-16T02:00:27.019820Z"
    }
   },
   "outputs": [
    {
     "data": {
      "text/plain": [
       "title                  0.0\n",
       "location               0.0\n",
       "description            0.0\n",
       "requirements           0.0\n",
       "telecommuting          0.0\n",
       "has_company_logo       0.0\n",
       "has_questions          0.0\n",
       "employment_type        0.0\n",
       "required_experience    0.0\n",
       "required_education     0.0\n",
       "industry               0.0\n",
       "function               0.0\n",
       "fraudulent             0.0\n",
       "dtype: float64"
      ]
     },
     "execution_count": 15,
     "metadata": {},
     "output_type": "execute_result"
    }
   ],
   "source": [
    "df_3.isna().sum()/len(df)"
   ]
  },
  {
   "cell_type": "code",
   "execution_count": 16,
   "metadata": {
    "execution": {
     "iopub.execute_input": "2022-12-16T02:00:27.043175Z",
     "iopub.status.busy": "2022-12-16T02:00:27.042637Z",
     "iopub.status.idle": "2022-12-16T02:00:27.049609Z",
     "shell.execute_reply": "2022-12-16T02:00:27.048362Z",
     "shell.execute_reply.started": "2022-12-16T02:00:27.043127Z"
    }
   },
   "outputs": [
    {
     "name": "stdout",
     "output_type": "stream",
     "text": [
      "After dropping duplicates we have 14836 rows left. It seems there were 178 duplicate rows.\n"
     ]
    }
   ],
   "source": [
    "print(f'After dropping duplicates we have {len(df_3)} rows left. It seems there were 178 duplicate rows.')"
   ]
  },
  {
   "cell_type": "code",
   "execution_count": 17,
   "metadata": {
    "execution": {
     "iopub.execute_input": "2022-12-16T02:00:27.051580Z",
     "iopub.status.busy": "2022-12-16T02:00:27.051204Z",
     "iopub.status.idle": "2022-12-16T02:00:27.136889Z",
     "shell.execute_reply": "2022-12-16T02:00:27.135729Z",
     "shell.execute_reply.started": "2022-12-16T02:00:27.051537Z"
    }
   },
   "outputs": [],
   "source": [
    "# Make copy\n",
    "df_4 = df_3.copy()\n",
    "\n",
    "#concatenating our description and requirments columns\n",
    "df_4['description'] = df_4['description'] + ' ' + df_4['requirements']\n",
    "del df_4['requirements']"
   ]
  },
  {
   "cell_type": "code",
   "execution_count": 18,
   "metadata": {
    "execution": {
     "iopub.execute_input": "2022-12-16T02:00:27.139010Z",
     "iopub.status.busy": "2022-12-16T02:00:27.138646Z",
     "iopub.status.idle": "2022-12-16T02:00:27.165547Z",
     "shell.execute_reply": "2022-12-16T02:00:27.164425Z",
     "shell.execute_reply.started": "2022-12-16T02:00:27.138966Z"
    }
   },
   "outputs": [
    {
     "data": {
      "text/html": [
       "<div>\n",
       "<style scoped>\n",
       "    .dataframe tbody tr th:only-of-type {\n",
       "        vertical-align: middle;\n",
       "    }\n",
       "\n",
       "    .dataframe tbody tr th {\n",
       "        vertical-align: top;\n",
       "    }\n",
       "\n",
       "    .dataframe thead th {\n",
       "        text-align: right;\n",
       "    }\n",
       "</style>\n",
       "<table border=\"1\" class=\"dataframe\">\n",
       "  <thead>\n",
       "    <tr style=\"text-align: right;\">\n",
       "      <th></th>\n",
       "      <th>title</th>\n",
       "      <th>location</th>\n",
       "      <th>description</th>\n",
       "      <th>telecommuting</th>\n",
       "      <th>has_company_logo</th>\n",
       "      <th>has_questions</th>\n",
       "      <th>employment_type</th>\n",
       "      <th>required_experience</th>\n",
       "      <th>required_education</th>\n",
       "      <th>industry</th>\n",
       "      <th>function</th>\n",
       "      <th>fraudulent</th>\n",
       "    </tr>\n",
       "  </thead>\n",
       "  <tbody>\n",
       "    <tr>\n",
       "      <th>0</th>\n",
       "      <td>Marketing Intern</td>\n",
       "      <td>US, NY, New York</td>\n",
       "      <td>Food52, a fast-growing, James Beard Award-winn...</td>\n",
       "      <td>0</td>\n",
       "      <td>1</td>\n",
       "      <td>0</td>\n",
       "      <td>Other</td>\n",
       "      <td>Internship</td>\n",
       "      <td>Bachelor's Degree</td>\n",
       "      <td>Marketing and Advertising</td>\n",
       "      <td>Marketing</td>\n",
       "      <td>0</td>\n",
       "    </tr>\n",
       "    <tr>\n",
       "      <th>1</th>\n",
       "      <td>Customer Service - Cloud Video Production</td>\n",
       "      <td>NZ, , Auckland</td>\n",
       "      <td>Organised - Focused - Vibrant - Awesome!Do you...</td>\n",
       "      <td>0</td>\n",
       "      <td>1</td>\n",
       "      <td>0</td>\n",
       "      <td>Full-time</td>\n",
       "      <td>Not Applicable</td>\n",
       "      <td>Bachelor's Degree</td>\n",
       "      <td>Marketing and Advertising</td>\n",
       "      <td>Customer Service</td>\n",
       "      <td>0</td>\n",
       "    </tr>\n",
       "    <tr>\n",
       "      <th>2</th>\n",
       "      <td>Commissioning Machinery Assistant (CMA)</td>\n",
       "      <td>US, IA, Wever</td>\n",
       "      <td>Our client, located in Houston, is actively se...</td>\n",
       "      <td>0</td>\n",
       "      <td>1</td>\n",
       "      <td>0</td>\n",
       "      <td>Full-time</td>\n",
       "      <td>Mid-Senior level</td>\n",
       "      <td>Bachelor's Degree</td>\n",
       "      <td>Computer Software</td>\n",
       "      <td>Sales</td>\n",
       "      <td>0</td>\n",
       "    </tr>\n",
       "    <tr>\n",
       "      <th>3</th>\n",
       "      <td>Account Executive - Washington DC</td>\n",
       "      <td>US, DC, Washington</td>\n",
       "      <td>THE COMPANY: ESRI – Environmental Systems Rese...</td>\n",
       "      <td>0</td>\n",
       "      <td>1</td>\n",
       "      <td>0</td>\n",
       "      <td>Full-time</td>\n",
       "      <td>Mid-Senior level</td>\n",
       "      <td>Bachelor's Degree</td>\n",
       "      <td>Computer Software</td>\n",
       "      <td>Sales</td>\n",
       "      <td>0</td>\n",
       "    </tr>\n",
       "    <tr>\n",
       "      <th>4</th>\n",
       "      <td>Bill Review Manager</td>\n",
       "      <td>US, FL, Fort Worth</td>\n",
       "      <td>JOB TITLE: Itemization Review ManagerLOCATION:...</td>\n",
       "      <td>0</td>\n",
       "      <td>1</td>\n",
       "      <td>1</td>\n",
       "      <td>Full-time</td>\n",
       "      <td>Mid-Senior level</td>\n",
       "      <td>Bachelor's Degree</td>\n",
       "      <td>Hospital &amp; Health Care</td>\n",
       "      <td>Health Care Provider</td>\n",
       "      <td>0</td>\n",
       "    </tr>\n",
       "    <tr>\n",
       "      <th>6</th>\n",
       "      <td>Head of Content (m/f)</td>\n",
       "      <td>DE, BE, Berlin</td>\n",
       "      <td>Your Responsibilities: Manage the English-spea...</td>\n",
       "      <td>0</td>\n",
       "      <td>1</td>\n",
       "      <td>1</td>\n",
       "      <td>Full-time</td>\n",
       "      <td>Mid-Senior level</td>\n",
       "      <td>Master's Degree</td>\n",
       "      <td>Online Media</td>\n",
       "      <td>Management</td>\n",
       "      <td>0</td>\n",
       "    </tr>\n",
       "    <tr>\n",
       "      <th>7</th>\n",
       "      <td>Lead Guest Service Specialist</td>\n",
       "      <td>US, CA, San Francisco</td>\n",
       "      <td>Who is Airenvy?Hey there! We are seasoned entr...</td>\n",
       "      <td>0</td>\n",
       "      <td>1</td>\n",
       "      <td>1</td>\n",
       "      <td>Full-time</td>\n",
       "      <td>Associate</td>\n",
       "      <td>High School or equivalent</td>\n",
       "      <td>Information Technology and Services</td>\n",
       "      <td>Customer Service</td>\n",
       "      <td>0</td>\n",
       "    </tr>\n",
       "  </tbody>\n",
       "</table>\n",
       "</div>"
      ],
      "text/plain": [
       "                                       title               location  \\\n",
       "0                           Marketing Intern       US, NY, New York   \n",
       "1  Customer Service - Cloud Video Production         NZ, , Auckland   \n",
       "2    Commissioning Machinery Assistant (CMA)          US, IA, Wever   \n",
       "3          Account Executive - Washington DC     US, DC, Washington   \n",
       "4                        Bill Review Manager     US, FL, Fort Worth   \n",
       "6                      Head of Content (m/f)         DE, BE, Berlin   \n",
       "7           Lead Guest Service Specialist     US, CA, San Francisco   \n",
       "\n",
       "                                         description  telecommuting  \\\n",
       "0  Food52, a fast-growing, James Beard Award-winn...              0   \n",
       "1  Organised - Focused - Vibrant - Awesome!Do you...              0   \n",
       "2  Our client, located in Houston, is actively se...              0   \n",
       "3  THE COMPANY: ESRI – Environmental Systems Rese...              0   \n",
       "4  JOB TITLE: Itemization Review ManagerLOCATION:...              0   \n",
       "6  Your Responsibilities: Manage the English-spea...              0   \n",
       "7  Who is Airenvy?Hey there! We are seasoned entr...              0   \n",
       "\n",
       "   has_company_logo  has_questions employment_type required_experience  \\\n",
       "0                 1              0           Other          Internship   \n",
       "1                 1              0       Full-time      Not Applicable   \n",
       "2                 1              0       Full-time    Mid-Senior level   \n",
       "3                 1              0       Full-time    Mid-Senior level   \n",
       "4                 1              1       Full-time    Mid-Senior level   \n",
       "6                 1              1       Full-time    Mid-Senior level   \n",
       "7                 1              1       Full-time           Associate   \n",
       "\n",
       "          required_education                             industry  \\\n",
       "0          Bachelor's Degree            Marketing and Advertising   \n",
       "1          Bachelor's Degree            Marketing and Advertising   \n",
       "2          Bachelor's Degree                    Computer Software   \n",
       "3          Bachelor's Degree                    Computer Software   \n",
       "4          Bachelor's Degree               Hospital & Health Care   \n",
       "6            Master's Degree                         Online Media   \n",
       "7  High School or equivalent  Information Technology and Services   \n",
       "\n",
       "               function  fraudulent  \n",
       "0             Marketing           0  \n",
       "1      Customer Service           0  \n",
       "2                 Sales           0  \n",
       "3                 Sales           0  \n",
       "4  Health Care Provider           0  \n",
       "6            Management           0  \n",
       "7      Customer Service           0  "
      ]
     },
     "metadata": {},
     "output_type": "display_data"
    },
    {
     "name": "stdout",
     "output_type": "stream",
     "text": [
      "(14836, 12)\n"
     ]
    }
   ],
   "source": [
    "#Clean DataFrame\n",
    "df_clean = df_4.copy()\n",
    "\n",
    "display(df_clean.head(7))\n",
    "print(df_clean.shape)"
   ]
  },
  {
   "cell_type": "markdown",
   "metadata": {},
   "source": [
    "# Part 2 - Exploratory Data Analysis"
   ]
  },
  {
   "cell_type": "code",
   "execution_count": 19,
   "metadata": {
    "execution": {
     "iopub.execute_input": "2022-12-16T02:00:27.167646Z",
     "iopub.status.busy": "2022-12-16T02:00:27.167327Z",
     "iopub.status.idle": "2022-12-16T02:00:27.365362Z",
     "shell.execute_reply": "2022-12-16T02:00:27.364165Z",
     "shell.execute_reply.started": "2022-12-16T02:00:27.167612Z"
    }
   },
   "outputs": [
    {
     "data": {
      "image/png": "[encoded data removed]",
      "text/plain": [
       "<Figure size 1008x792 with 1 Axes>"
      ]
     },
     "metadata": {
      "needs_background": "light"
     },
     "output_type": "display_data"
    }
   ],
   "source": [
    "sns.set_palette(sns.color_palette([\"#2CA02B\", \"#D62827\"])) ##set a clear universal color palette \n",
    "#Plotting the Target variable\n",
    "fraudulent = plt.figure(figsize = (14,11)) ##increased figure size\n",
    "fraudulent = sns.countplot(x = df.fraudulent, data = df)\n",
    "plt.title('Real vs. Fake Postings Count') ##changed from 'Fradulent (Target Variable) Count'\n",
    "plt.xlabel(\"real v. fake\") ##changed x axis label\n",
    "fraudulent.set_xticklabels([\"real\", \"fake\"]) ##added labels for each of the bars\n",
    "plt.show() "
   ]
  },
  {
   "cell_type": "markdown",
   "metadata": {},
   "source": [
    "It is clear that our data is highly imbalanced. This may cause some difficulties when modeling with highly imbalanced data. "
   ]
  },
  {
   "cell_type": "code",
   "execution_count": 20,
   "metadata": {
    "execution": {
     "iopub.execute_input": "2022-12-16T02:00:27.368069Z",
     "iopub.status.busy": "2022-12-16T02:00:27.367700Z",
     "iopub.status.idle": "2022-12-16T02:00:27.960604Z",
     "shell.execute_reply": "2022-12-16T02:00:27.959432Z",
     "shell.execute_reply.started": "2022-12-16T02:00:27.368031Z"
    }
   },
   "outputs": [
    {
     "data": {
      "image/png": "[encoded data removed]",
      "text/plain": [
       "<Figure size 1008x792 with 1 Axes>"
      ]
     },
     "metadata": {
      "needs_background": "light"
     },
     "output_type": "display_data"
    },
    {
     "data": {
      "image/png": "[encoded data removed]",
      "text/plain": [
       "<Figure size 1008x792 with 1 Axes>"
      ]
     },
     "metadata": {
      "needs_background": "light"
     },
     "output_type": "display_data"
    },
    {
     "data": {
      "image/png": "[encoded data removed]",
      "text/plain": [
       "<Figure size 1008x792 with 1 Axes>"
      ]
     },
     "metadata": {
      "needs_background": "light"
     },
     "output_type": "display_data"
    }
   ],
   "source": [
    "sns.set_palette(sns.color_palette([\"#D62827\",\"#2CA02B\"])) ##set a clear universal color palette \n",
    "#made plots for other data categories\n",
    "##added labels for the bars\n",
    "all_logo = plt.figure(figsize = (14,11)) ##increased figure size\n",
    "all_logo = sns.countplot(x = df.has_company_logo, data = df)\n",
    "plt.title('Has Comapny Logo') \n",
    "plt.xlabel('has a logo')\n",
    "all_logo.set_xticklabels([\"no\", \"yes\"])\n",
    "\n",
    "all_questions = plt.figure(figsize = (14,11)) #increased figure size\n",
    "all_questions = sns.countplot(x = df.has_questions, data = df)\n",
    "plt.title('Has Questions') \n",
    "plt.xlabel('has questions')\n",
    "all_questions.set_xticklabels([\"no\", \"yes\"])\n",
    "\n",
    "all_telecommuting = plt.figure(figsize = (14,11)) #increased figure size\n",
    "all_telecommuting = sns.countplot(x = df.telecommuting, data = df)\n",
    "plt.title('Telecommuting') \n",
    "plt.xlabel('telecommuting')\n",
    "all_telecommuting.set_xticklabels([\"no\", \"yes\"])\n",
    "\n",
    "plt.show()"
   ]
  },
  {
   "cell_type": "code",
   "execution_count": 21,
   "metadata": {
    "execution": {
     "iopub.execute_input": "2022-12-16T02:00:27.963050Z",
     "iopub.status.busy": "2022-12-16T02:00:27.962635Z",
     "iopub.status.idle": "2022-12-16T02:00:27.985475Z",
     "shell.execute_reply": "2022-12-16T02:00:27.984431Z",
     "shell.execute_reply.started": "2022-12-16T02:00:27.963001Z"
    }
   },
   "outputs": [],
   "source": [
    "##sort data based on the fraudulent column to then be able to split into two separate dataframes\n",
    "sorted_data = df.sort_values('fraudulent')\n",
    "\n",
    "##find row where postings shift from real to fraudulent\n",
    "count = 0\n",
    "for index in sorted_data.fraudulent:\n",
    "    if index == 1:\n",
    "        break\n",
    "    else:\n",
    "        count+=1\n",
    "        \n",
    "##split data into two separate dataframes, one for fraudulent postings, one for real postings\n",
    "not_fraudulent_data = sorted_data.iloc[:count]\n",
    "fraudulent_data = sorted_data.iloc[count:]"
   ]
  },
  {
   "cell_type": "code",
   "execution_count": 22,
   "metadata": {
    "execution": {
     "iopub.execute_input": "2022-12-16T02:00:28.477346Z",
     "iopub.status.busy": "2022-12-16T02:00:28.476972Z",
     "iopub.status.idle": "2022-12-16T02:00:28.693322Z",
     "shell.execute_reply": "2022-12-16T02:00:28.690812Z",
     "shell.execute_reply.started": "2022-12-16T02:00:28.477308Z"
    }
   },
   "outputs": [
    {
     "name": "stdout",
     "output_type": "stream",
     "text": [
      "fraud and logo: 32.67898383371824\n",
      "fraud no logo: 67.32101616628175\n",
      "no fraud and logo: 81.91489361702128\n",
      "no fraud no logo: 18.085106382978726\n"
     ]
    },
    {
     "data": {
      "image/png": "[encoded data removed]",
      "text/plain": [
       "<Figure size 432x288 with 1 Axes>"
      ]
     },
     "metadata": {
      "needs_background": "light"
     },
     "output_type": "display_data"
    }
   ],
   "source": [
    "sns.set_palette(sns.color_palette([\"#2CA02B\", \"#D62827\"])) ##set a clear universal color palette \n",
    "##comparison for fake/real postings based on if posting has company logo\n",
    "logo = sns.countplot(data=df, x=\"has_company_logo\", hue=\"fraudulent\")\n",
    "plt.title('Has Comapny Logo (Real vs. Fake)') \n",
    "plt.xlabel('has a logo')\n",
    "logo.legend(title=\"real v. fake\", labels=[\"real\", \"fake\"])\n",
    "logo.set_xticklabels([\"no\", \"yes\"])\n",
    "\n",
    "##counts number of fake postings that have a logo and number that don't\n",
    "fraud_with_logo = 0\n",
    "fraud_without_logo = 0\n",
    "total_fraud_logo = 0\n",
    "for index in fraudulent_data.has_company_logo:\n",
    "    if index == 1:\n",
    "        fraud_with_logo += 1\n",
    "        total_fraud_logo += 1\n",
    "    elif index == 0:\n",
    "        fraud_without_logo += 1\n",
    "        total_fraud_logo += 1\n",
    "\n",
    "##counts number of real postings that have a logo and number that's don't\n",
    "not_fraud_with_logo = 0\n",
    "not_fraud_without_logo = 0\n",
    "total_not_fraud_logo = 0\n",
    "for index in not_fraudulent_data.has_company_logo:\n",
    "    if index == 1:\n",
    "        not_fraud_with_logo += 1\n",
    "        total_not_fraud_logo += 1\n",
    "    elif index == 0:\n",
    "        not_fraud_without_logo += 1\n",
    "        total_not_fraud_logo += 1\n",
    "\n",
    "##calculates percent of fake postings that have logo, percent that do not\n",
    "fraud_with_logo_percent = (fraud_with_logo/total_fraud_logo)*100\n",
    "fraud_without_logo_percent = (fraud_without_logo/total_fraud_logo)*100\n",
    "print(\"fraud and logo: \" + str(fraud_with_logo_percent))\n",
    "print(\"fraud no logo: \" + str(fraud_without_logo_percent))      \n",
    "  \n",
    "##calculates percent of real postings that have logo, percent that do not\n",
    "not_fraud_with_logo_percent = (not_fraud_with_logo/total_not_fraud_logo)*100\n",
    "not_fraud_without_logo_percent = (not_fraud_without_logo/total_not_fraud_logo)*100 \n",
    "print(\"no fraud and logo: \" + str(not_fraud_with_logo_percent))\n",
    "print(\"no fraud no logo: \" + str(not_fraud_without_logo_percent))\n",
    "\n",
    "plt.show()"
   ]
  },
  {
   "cell_type": "code",
   "execution_count": 23,
   "metadata": {
    "execution": {
     "iopub.execute_input": "2022-12-16T02:00:28.695980Z",
     "iopub.status.busy": "2022-12-16T02:00:28.695571Z",
     "iopub.status.idle": "2022-12-16T02:00:28.915898Z",
     "shell.execute_reply": "2022-12-16T02:00:28.914844Z",
     "shell.execute_reply.started": "2022-12-16T02:00:28.695939Z"
    }
   },
   "outputs": [
    {
     "name": "stdout",
     "output_type": "stream",
     "text": [
      "fraud and questions: 28.868360277136258\n",
      "fraud no questions: 71.13163972286374\n",
      "no fraud and questions: 50.20571294228282\n",
      "no fraud no questions: 49.79428705771717\n"
     ]
    },
    {
     "data": {
      "image/png": "[encoded data removed]",
      "text/plain": [
       "<Figure size 432x288 with 1 Axes>"
      ]
     },
     "metadata": {
      "needs_background": "light"
     },
     "output_type": "display_data"
    }
   ],
   "source": [
    "sns.set_palette(sns.color_palette([\"#2CA02B\", \"#D62827\"])) ##set a clear universal color palette \n",
    "##comparison for fake/real postings based on if posting has questions\n",
    "questions = sns.countplot(data=df, x=\"has_questions\", hue=\"fraudulent\")\n",
    "plt.title('Has Questions (Real vs. Fake)') \n",
    "plt.xlabel('has questions')\n",
    "questions.legend(title=\"real v. fake\", labels=[\"real\", \"fake\"])\n",
    "questions.set_xticklabels([\"no\", \"yes\"])\n",
    "\n",
    "#c#ounts number of fake postings that have a questions and number that don't\n",
    "fraud_with_questions = 0\n",
    "fraud_without_questions = 0\n",
    "total_fraud_questions = 0\n",
    "for index in fraudulent_data.has_questions:\n",
    "    if index == 1:\n",
    "        fraud_with_questions += 1\n",
    "        total_fraud_questions += 1\n",
    "    elif index == 0:\n",
    "        fraud_without_questions += 1\n",
    "        total_fraud_questions += 1\n",
    "\n",
    "##counts number of real postings that have questions and number that's don't\n",
    "not_fraud_with_questions = 0\n",
    "not_fraud_without_questions = 0\n",
    "total_not_fraud_questions = 0\n",
    "for index in not_fraudulent_data.has_questions:\n",
    "    if index == 1:\n",
    "        not_fraud_with_questions += 1\n",
    "        total_not_fraud_questions += 1\n",
    "    elif index == 0:\n",
    "        not_fraud_without_questions += 1\n",
    "        total_not_fraud_questions += 1\n",
    "\n",
    "##calculates percent of fake postings that have questions, percent that do not\n",
    "fraud_with_questions_percent = (fraud_with_questions/total_fraud_questions)*100\n",
    "fraud_without_questions_percent = (fraud_without_questions/total_fraud_questions)*100\n",
    "print(\"fraud and questions: \" + str(fraud_with_questions_percent))\n",
    "print(\"fraud no questions: \" + str(fraud_without_questions_percent))      \n",
    "  \n",
    "##calculates percent of real postings that have questions, percent that do not\n",
    "not_fraud_with_questions_percent = (not_fraud_with_questions/total_not_fraud_questions)*100\n",
    "not_fraud_without_questions_percent = (not_fraud_without_questions/total_not_fraud_questions)*100 \n",
    "print(\"no fraud and questions: \" + str(not_fraud_with_questions_percent))\n",
    "print(\"no fraud no questions: \" + str(not_fraud_without_questions_percent))\n",
    "\n",
    "plt.show()"
   ]
  },
  {
   "cell_type": "code",
   "execution_count": 24,
   "metadata": {
    "execution": {
     "iopub.execute_input": "2022-12-16T02:00:28.918240Z",
     "iopub.status.busy": "2022-12-16T02:00:28.917920Z",
     "iopub.status.idle": "2022-12-16T02:00:29.135010Z",
     "shell.execute_reply": "2022-12-16T02:00:29.133992Z",
     "shell.execute_reply.started": "2022-12-16T02:00:28.918205Z"
    }
   },
   "outputs": [
    {
     "name": "stdout",
     "output_type": "stream",
     "text": [
      "fraud and telecommuting: 7.390300230946882\n",
      "fraud no telecommuting: 92.60969976905312\n",
      "no fraud and telecommuting: 4.131891383566474\n",
      "no fraud no telecommuting: 95.86810861643352\n"
     ]
    },
    {
     "data": {
      "image/png": "[encoded data removed]",
      "text/plain": [
       "<Figure size 432x288 with 1 Axes>"
      ]
     },
     "metadata": {
      "needs_background": "light"
     },
     "output_type": "display_data"
    }
   ],
   "source": [
    "sns.set_palette(sns.color_palette([\"#2CA02B\", \"#D62827\"])) ##set a clear universal color palette \n",
    "##comparison for fake/real postings based on if posting is telecommuting\n",
    "telecommuting = sns.countplot(data=df, x=\"telecommuting\", hue=\"fraudulent\")\n",
    "plt.title('Telecommuting (Real vs. Fake)') \n",
    "plt.xlabel('telecommuting')\n",
    "telecommuting.legend(title=\"real v. fake\", labels=[\"real\", \"fake\"])\n",
    "telecommuting.set_xticklabels([\"no\", \"yes\"])\n",
    "\n",
    "##counts number of fake postings that are telecommuting and number that are not\n",
    "fraud_with_telecommuting = 0\n",
    "fraud_without_telecommuting = 0\n",
    "total_fraud_telecommuting = 0\n",
    "for index in fraudulent_data.telecommuting:\n",
    "    if index == 1:\n",
    "        fraud_with_telecommuting += 1\n",
    "        total_fraud_telecommuting += 1\n",
    "    elif index == 0:\n",
    "        fraud_without_telecommuting += 1\n",
    "        total_fraud_telecommuting += 1\n",
    "\n",
    "##counts number of real postings that are telecommuting and number that are not\n",
    "not_fraud_with_telecommuting = 0\n",
    "not_fraud_without_telecommuting = 0\n",
    "total_not_fraud_telecommuting = 0\n",
    "for index in not_fraudulent_data.telecommuting:\n",
    "    if index == 1:\n",
    "        not_fraud_with_telecommuting += 1\n",
    "        total_not_fraud_telecommuting += 1\n",
    "    elif index == 0:\n",
    "        not_fraud_without_telecommuting += 1\n",
    "        total_not_fraud_telecommuting += 1\n",
    "\n",
    "##calculates percent of fake postings that are telecommuting, percent that are not\n",
    "fraud_with_telecommuting_percent = (fraud_with_telecommuting/total_fraud_telecommuting)*100\n",
    "fraud_without_telecommuting_percent = (fraud_without_telecommuting/total_fraud_telecommuting)*100\n",
    "print(\"fraud and telecommuting: \" + str(fraud_with_telecommuting_percent))\n",
    "print(\"fraud no telecommuting: \" + str(fraud_without_telecommuting_percent))      \n",
    "  \n",
    "##calculates percent of real postings that are telecommuting, percent that are not\n",
    "not_fraud_with_telecommuting_percent = (not_fraud_with_telecommuting/total_not_fraud_telecommuting)*100\n",
    "not_fraud_without_telecommuting_percent = (not_fraud_without_telecommuting/total_not_fraud_telecommuting)*100 \n",
    "print(\"no fraud and telecommuting: \" + str(not_fraud_with_telecommuting_percent))\n",
    "print(\"no fraud no telecommuting: \" + str(not_fraud_without_telecommuting_percent))\n",
    "\n",
    "plt.show()"
   ]
  },
  {
   "cell_type": "code",
   "execution_count": 25,
   "metadata": {
    "execution": {
     "iopub.execute_input": "2022-12-16T02:00:29.136987Z",
     "iopub.status.busy": "2022-12-16T02:00:29.136704Z",
     "iopub.status.idle": "2022-12-16T02:00:29.504809Z",
     "shell.execute_reply": "2022-12-16T02:00:29.503494Z",
     "shell.execute_reply.started": "2022-12-16T02:00:29.136955Z"
    }
   },
   "outputs": [
    {
     "data": {
      "image/png": "[encoded data removed]",
      "text/plain": [
       "<Figure size 432x288 with 1 Axes>"
      ]
     },
     "metadata": {
      "needs_background": "light"
     },
     "output_type": "display_data"
    },
    {
     "name": "stdout",
     "output_type": "stream",
     "text": [
      "Fake Bachelor's Degree: 25.31645569620253\n",
      "Real Bachelor's Degree: 53.939912327595415\n",
      "Fake Master's Degree: 7.848101265822785\n",
      "Real Master's Degree: 4.116326312413129\n",
      "Fake High School or equivalent: 43.037974683544306\n",
      "Real High School or equivalent: 20.421255212231372\n",
      "Fake Unspecified: 15.443037974683543\n",
      "Real Unspecified: 14.284186891906339\n",
      "Fake Some College Coursework Completed: 0.7594936708860759\n",
      "Real Some College Coursework Completed: 1.0584839089062332\n",
      "Fake Vocational: 0.0\n",
      "Real Vocational: 0.5238960761253073\n",
      "Fake Certification: 4.810126582278481\n",
      "Real Certification: 1.6144552549983961\n",
      "Fake Associate Degree: 1.5189873417721518\n",
      "Real Associate Degree: 2.8653907837057626\n",
      "Fake Professional: 1.0126582278481013\n",
      "Real Professional: 0.7484229658932963\n",
      "Fake Doctorate: 0.25316455696202533\n",
      "Real Doctorate: 0.26729391639046296\n",
      "Fake Some High Shcool Coursework: 0.0\n",
      "Real Some High Shcool Coursework: 0.0\n",
      "Fake Vocational - Degree: 0.0\n",
      "Real Vocational - Degree: 0.06415053993371111\n",
      "Fake Vocational - HS Diploma: 0.0\n",
      "Real Vocational - HS Diploma: 0.09622580990056666\n"
     ]
    }
   ],
   "source": [
    "sns.set_palette(sns.color_palette([\"#2CA02B\", \"#D62827\"])) ##set a clear universal color palette \n",
    "##comparison for fake/real postings based on required edeucation\n",
    "req_ed = sns.countplot(data=df, y=\"required_education\", hue=\"fraudulent\")\n",
    "plt.title('Required Education (Real vs. Fake)') \n",
    "plt.ylabel('required education')\n",
    "req_ed.legend(title=\"real v. fake\", labels=[\"real\", \"fake\"], loc=\"lower right\")\n",
    "plt.show()\n",
    "\n",
    "##creates dicictionaries with the required education labels as keys to store counts of each label, and then their percent\n",
    "required_ed_fraud_counts = {}\n",
    "required_ed_not_fraud_counts = {}\n",
    "ed_keys = [\"Bachelor's Degree\", \"Master's Degree\", \"High School or equivalent\", \n",
    "        \"Unspecified\", \"Some College Coursework Completed\", \"Vocational\", \"Certification\", \"Associate Degree\",\n",
    "       \"Professional\", \"Doctorate\", \"Some High Shcool Coursework\", \"Vocational - Degree\", \"Vocational - HS Diploma\"]\n",
    "for level in ed_keys:\n",
    "    required_ed_fraud_counts.setdefault(level, [])\n",
    "    required_ed_fraud_counts[level].append(0)\n",
    "    required_ed_not_fraud_counts.setdefault(level, [])\n",
    "    required_ed_not_fraud_counts[level].append(0)\n",
    "\n",
    "##counts number of fake postings that belong to which of the 13 required education keys\n",
    "total_fraud_ed_count = 0\n",
    "for index in fraudulent_data.required_education:\n",
    "    for key in required_ed_fraud_counts:\n",
    "        if index == key:\n",
    "            required_ed_fraud_counts[key][0] = required_ed_fraud_counts[key][0] + 1\n",
    "            total_fraud_ed_count += 1\n",
    "\n",
    "##counts number of real postings that belong to which of the 13 required education keys\n",
    "total_not_fraud_ed_count = 0\n",
    "for index in not_fraudulent_data.required_education:\n",
    "    for key in required_ed_not_fraud_counts:\n",
    "        if index == key:\n",
    "            required_ed_not_fraud_counts[key][0] = required_ed_not_fraud_counts[key][0] + 1\n",
    "            total_not_fraud_ed_count += 1\n",
    "\n",
    "##calculates the percent that each required education key makes up for fake postings, and then real ones\n",
    "for key in required_ed_fraud_counts:\n",
    "    required_ed_fraud_counts[key].append((required_ed_fraud_counts[key][0]/total_fraud_ed_count)*100)\n",
    "    required_ed_not_fraud_counts[key].append((required_ed_not_fraud_counts[key][0]/total_not_fraud_ed_count)*100)\n",
    "    print(\"Fake \" + key + \": \" + str(required_ed_fraud_counts[key][1]))\n",
    "    print(\"Real \" + key + \": \" + str(required_ed_not_fraud_counts[key][1]))"
   ]
  },
  {
   "cell_type": "code",
   "execution_count": 26,
   "metadata": {
    "execution": {
     "iopub.execute_input": "2022-12-16T02:00:29.506993Z",
     "iopub.status.busy": "2022-12-16T02:00:29.506623Z",
     "iopub.status.idle": "2022-12-16T02:00:29.806527Z",
     "shell.execute_reply": "2022-12-16T02:00:29.805309Z",
     "shell.execute_reply.started": "2022-12-16T02:00:29.506950Z"
    }
   },
   "outputs": [
    {
     "data": {
      "image/png": "[encoded data removed]",
      "text/plain": [
       "<Figure size 432x288 with 1 Axes>"
      ]
     },
     "metadata": {
      "needs_background": "light"
     },
     "output_type": "display_data"
    },
    {
     "name": "stdout",
     "output_type": "stream",
     "text": [
      "Fake Internship: 2.320185614849188\n",
      "Real Internship: 3.5676507356476588\n",
      "Fake Not Applicable: 13.921113689095128\n",
      "Real Not Applicable: 10.154822579094144\n",
      "Fake Mid-Senior level: 26.218097447795824\n",
      "Real Mid-Senior level: 35.541879026829506\n",
      "Fake Associate: 9.744779582366588\n",
      "Real Associate: 21.684777382440622\n",
      "Fake Entry level: 41.53132250580047\n",
      "Real Entry level: 24.21386671795365\n",
      "Fake Executive: 2.320185614849188\n",
      "Real Executive: 1.2597365131262621\n",
      "Fake Director: 3.944315545243619\n",
      "Real Director: 3.577267044908164\n"
     ]
    }
   ],
   "source": [
    "sns.set_palette(sns.color_palette([\"#2CA02B\", \"#D62827\"])) ##set a clear universal color palette \n",
    "##comparison for fake/real postings based on required experience\n",
    "req_exp = sns.countplot(data=df, y=\"required_experience\", hue=\"fraudulent\")\n",
    "plt.title('Required Experience (Real vs. Fake)') \n",
    "plt.ylabel('required experience')\n",
    "req_exp.legend(title=\"real v. fake\", labels=[\"real\", \"fake\"], loc=\"lower right\")\n",
    "plt.show()\n",
    "\n",
    "##creates dicictionaries with the required experience labels as keys to store counts of each label, and then their percent\n",
    "required_exp_fraud_counts = {}\n",
    "required_exp_not_fraud_counts = {}\n",
    "exp_keys = [\"Internship\", \"Not Applicable\", \"Mid-Senior level\", \"Associate\", \"Entry level\", \"Executive\", \"Director\"]\n",
    "for level in exp_keys:\n",
    "    required_exp_fraud_counts.setdefault(level, [])\n",
    "    required_exp_fraud_counts[level].append(0)\n",
    "    required_exp_not_fraud_counts.setdefault(level, [])\n",
    "    required_exp_not_fraud_counts[level].append(0)\n",
    "\n",
    "##counts number of fake postings that belong to which of the 7 required experience keys\n",
    "total_fraud_exp_count = 0\n",
    "for index in fraudulent_data.required_experience:\n",
    "    for key in required_exp_fraud_counts:\n",
    "        if index == key:\n",
    "            required_exp_fraud_counts[key][0] = required_exp_fraud_counts[key][0] + 1\n",
    "            total_fraud_exp_count += 1\n",
    "\n",
    "##counts number of real postings that belong to which of the 7 required experience keys\n",
    "total_not_fraud_exp_count = 0\n",
    "for index in not_fraudulent_data.required_experience:\n",
    "    for key in required_exp_not_fraud_counts:\n",
    "        if index == key:\n",
    "            required_exp_not_fraud_counts[key][0] = required_exp_not_fraud_counts[key][0] + 1\n",
    "            total_not_fraud_exp_count += 1\n",
    "\n",
    "##calculates the percent that each required experience key makes up for fake postings, and then real ones\n",
    "for key in required_exp_fraud_counts:\n",
    "    required_exp_fraud_counts[key].append((required_exp_fraud_counts[key][0]/total_fraud_exp_count)*100)\n",
    "    required_exp_not_fraud_counts[key].append((required_exp_not_fraud_counts[key][0]/total_not_fraud_exp_count)*100)\n",
    "    print(\"Fake \" + key + \": \" + str(required_exp_fraud_counts[key][1]))\n",
    "    print(\"Real \" + key + \": \" + str(required_exp_not_fraud_counts[key][1]))"
   ]
  },
  {
   "cell_type": "code",
   "execution_count": 27,
   "metadata": {
    "execution": {
     "iopub.execute_input": "2022-12-16T02:00:29.808736Z",
     "iopub.status.busy": "2022-12-16T02:00:29.808459Z",
     "iopub.status.idle": "2022-12-16T02:00:30.096061Z",
     "shell.execute_reply": "2022-12-16T02:00:30.094856Z",
     "shell.execute_reply.started": "2022-12-16T02:00:29.808705Z"
    }
   },
   "outputs": [
    {
     "data": {
      "image/png": "[encoded data removed]",
      "text/plain": [
       "<Figure size 432x288 with 1 Axes>"
      ]
     },
     "metadata": {
      "needs_background": "light"
     },
     "output_type": "display_data"
    },
    {
     "name": "stdout",
     "output_type": "stream",
     "text": [
      "Fake Other: 2.4\n",
      "Real Other: 1.5380150899593732\n",
      "Fake Full-time: 78.4\n",
      "Real Full-time: 80.7457922228671\n",
      "Fake Part-time: 11.84\n",
      "Real Part-time: 5.245211839814277\n",
      "Fake Contract: 7.04\n",
      "Real Contract: 10.73708647707487\n",
      "Fake Temporary: 0.32\n",
      "Real Temporary: 1.7338943702843876\n"
     ]
    }
   ],
   "source": [
    "sns.set_palette(sns.color_palette([\"#2CA02B\", \"#D62827\"])) ##set a clear universal color palette \n",
    "##comparison for fake/real postings based on employment type\n",
    "employ_type = sns.countplot(data=df, y=\"employment_type\", hue=\"fraudulent\")\n",
    "plt.title('Employment Type (Real vs. Fake)') \n",
    "plt.ylabel('employment type')\n",
    "employ_type.legend(title=\"real v. fake\", labels=[\"real\", \"fake\"], loc=\"lower right\")\n",
    "plt.show()\n",
    "\n",
    "##creates dicictionaries with the employment type labels as keys to store counts of each label, and then their percent\n",
    "employ_type_fraud_counts = {}\n",
    "employ_type_not_fraud_counts = {}\n",
    "employ_type_keys = [\"Other\", \"Full-time\", \"Part-time\", \"Contract\", \"Temporary\"]\n",
    "for level in employ_type_keys:\n",
    "    employ_type_fraud_counts.setdefault(level, [])\n",
    "    employ_type_fraud_counts[level].append(0)\n",
    "    employ_type_not_fraud_counts.setdefault(level, [])\n",
    "    employ_type_not_fraud_counts[level].append(0)\n",
    "\n",
    "##counts number of fake postings that belong to which of the 5 employment type keys\n",
    "total_fraud_employ_type_count = 0\n",
    "for index in fraudulent_data.employment_type:\n",
    "    for key in employ_type_fraud_counts:\n",
    "        if index == key:\n",
    "            employ_type_fraud_counts[key][0] = employ_type_fraud_counts[key][0] + 1\n",
    "            total_fraud_employ_type_count += 1\n",
    "\n",
    "##counts number of real postings that belong to which of the 5 employment type keys\n",
    "total_not_fraud_employ_type_count = 0\n",
    "for index in not_fraudulent_data.employment_type:\n",
    "    for key in employ_type_not_fraud_counts:\n",
    "        if index == key:\n",
    "            employ_type_not_fraud_counts[key][0] = employ_type_not_fraud_counts[key][0] + 1\n",
    "            total_not_fraud_employ_type_count += 1\n",
    "\n",
    "##calculates the percent that each employment type key makes up for fake postings, and then real ones\n",
    "for key in employ_type_fraud_counts:\n",
    "    employ_type_fraud_counts[key].append((employ_type_fraud_counts[key][0]/total_fraud_employ_type_count)*100)\n",
    "    employ_type_not_fraud_counts[key].append((employ_type_not_fraud_counts[key][0]/total_not_fraud_employ_type_count)*100)\n",
    "    print(\"Fake \" + key + \": \" + str(employ_type_fraud_counts[key][1]))\n",
    "    print(\"Real \" + key + \": \" + str(employ_type_not_fraud_counts[key][1]))"
   ]
  },
  {
   "cell_type": "code",
   "execution_count": 28,
   "metadata": {
    "execution": {
     "iopub.execute_input": "2022-12-16T02:00:30.098032Z",
     "iopub.status.busy": "2022-12-16T02:00:30.097752Z",
     "iopub.status.idle": "2022-12-16T02:00:31.153539Z",
     "shell.execute_reply": "2022-12-16T02:00:31.152402Z",
     "shell.execute_reply.started": "2022-12-16T02:00:30.098002Z"
    }
   },
   "outputs": [
    {
     "data": {
      "image/png": "[encoded data removed]",
      "text/plain": [
       "<Figure size 432x288 with 1 Axes>"
      ]
     },
     "metadata": {
      "needs_background": "light"
     },
     "output_type": "display_data"
    },
    {
     "name": "stdout",
     "output_type": "stream",
     "text": [
      "Fake Oil & Energy: 33.33333333333333\n",
      "Real Oil & Energy: 2.294405774684197\n",
      "Fake Telecommunications: 7.951070336391437\n",
      "Real Telecommunications: 4.073214746068574\n",
      "Fake Consumer Services: 7.339449541284404\n",
      "Real Consumer Services: 4.305233307553493\n",
      "Fake Hospital & Health Care: 15.59633027522936\n",
      "Real Hospital & Health Care: 5.748904356792988\n",
      "Fake Financial Services: 10.703363914373089\n",
      "Real Financial Services: 9.590100541376643\n",
      "Fake Education Management: 0.0\n",
      "Real Education Management: 10.595514307811293\n",
      "Fake Marketing and Advertising: 13.761467889908257\n",
      "Real Marketing and Advertising: 10.092807424593968\n",
      "Fake Internet: 0.0\n",
      "Real Internet: 13.68909512761021\n",
      "Fake Computer Software: 1.529051987767584\n",
      "Real Computer Software: 17.672080433101314\n",
      "Fake Information Technology and Services: 9.785932721712538\n",
      "Real Information Technology and Services: 21.93864398040732\n"
     ]
    }
   ],
   "source": [
    "sns.set_palette(sns.color_palette([\"#2CA02B\", \"#D62827\"])) ##set a clear universal color palette \n",
    "##comparison for fake/real postings based on employment type\n",
    "industry = sns.countplot(data=df, y=\"industry\", hue=\"fraudulent\", order = df.industry.value_counts().index[:10])\n",
    "plt.title('Top 10 Industries (Real vs. Fake)') \n",
    "plt.ylabel('industry')\n",
    "industry.legend(title=\"real v. fake\", labels=[\"real\", \"fake\"], loc=\"lower right\")\n",
    "plt.show()\n",
    "\n",
    "##creates dicictionaries with the top 10 industry labels as keys to store counts of each label, and then their percent\n",
    "industry_fraud_counts = {}\n",
    "industry_not_fraud_counts = {}\n",
    "industry_keys = [\"Oil & Energy\", \"Telecommunications\", \"Consumer Services\", \"Hospital & Health Care\", \"Financial Services\",\n",
    "                \"Education Management\", \"Marketing and Advertising\", \"Internet\", \"Computer Software\", \"Information Technology and Services\"]\n",
    "for level in industry_keys:\n",
    "    industry_fraud_counts.setdefault(level, [])\n",
    "    industry_fraud_counts[level].append(0)\n",
    "    industry_not_fraud_counts.setdefault(level, [])\n",
    "    industry_not_fraud_counts[level].append(0)\n",
    "\n",
    "##counts number of fake postings that belong to which of the 10 industry keys\n",
    "total_fraud_industry_count = 0\n",
    "for index in fraudulent_data.industry:\n",
    "    for key in industry_fraud_counts:\n",
    "        if index == key:\n",
    "            industry_fraud_counts[key][0] = industry_fraud_counts[key][0] + 1\n",
    "            total_fraud_industry_count += 1\n",
    "            \n",
    "##counts number of real postings that belong to which of the 10 industry keys            \n",
    "total_not_fraud_industry_count = 0\n",
    "for index in not_fraudulent_data.industry:\n",
    "    for key in industry_not_fraud_counts:\n",
    "        if index == key:\n",
    "            industry_not_fraud_counts[key][0] = industry_not_fraud_counts[key][0] + 1\n",
    "            total_not_fraud_industry_count += 1\n",
    "\n",
    "##calculates the percent that each of the top 10 industries' key makes up for fake postings, and then real ones\n",
    "for key in industry_fraud_counts:\n",
    "    industry_fraud_counts[key].append((industry_fraud_counts[key][0]/total_fraud_industry_count)*100)\n",
    "    industry_not_fraud_counts[key].append((industry_not_fraud_counts[key][0]/total_not_fraud_industry_count)*100)\n",
    "    print(\"Fake \" + key + \": \" + str(industry_fraud_counts[key][1]))\n",
    "    print(\"Real \" + key + \": \" + str(industry_not_fraud_counts[key][1]))"
   ]
  },
  {
   "cell_type": "code",
   "execution_count": 29,
   "metadata": {
    "execution": {
     "iopub.execute_input": "2022-12-16T02:00:31.155703Z",
     "iopub.status.busy": "2022-12-16T02:00:31.155337Z",
     "iopub.status.idle": "2022-12-16T02:00:31.517443Z",
     "shell.execute_reply": "2022-12-16T02:00:31.516379Z",
     "shell.execute_reply.started": "2022-12-16T02:00:31.155659Z"
    }
   },
   "outputs": [
    {
     "data": {
      "image/png": "[encoded data removed]",
      "text/plain": [
       "<Figure size 432x288 with 1 Axes>"
      ]
     },
     "metadata": {
      "needs_background": "light"
     },
     "output_type": "display_data"
    },
    {
     "name": "stdout",
     "output_type": "stream",
     "text": [
      "Fake Other: 7.637231503579953\n",
      "Real Other: 3.5893666544162683\n",
      "Fake Education: 0.23866348448687352\n",
      "Real Education: 3.9691289966923926\n",
      "Fake Health Care Provider: 0.23866348448687352\n",
      "Real Health Care Provider: 4.128384172485606\n",
      "Fake Design: 0.7159904534606205\n",
      "Real Design: 4.128384172485606\n",
      "Fake Administrative: 28.400954653937948\n",
      "Real Administrative: 6.259953448487075\n",
      "Fake Marketing: 2.386634844868735\n",
      "Real Marketing: 10.045326473110377\n",
      "Fake Customer Service: 15.990453460620524\n",
      "Real Customer Service: 14.234962636285678\n",
      "Fake Engineering: 26.968973747016705\n",
      "Real Engineering: 15.129241700355262\n",
      "Fake Sales: 9.785202863961814\n",
      "Real Sales: 17.48131814283964\n",
      "Fake Information Technology: 7.637231503579953\n",
      "Real Information Technology: 21.03393360284209\n"
     ]
    }
   ],
   "source": [
    "sns.set_palette(sns.color_palette([\"#2CA02B\", \"#D62827\"])) ##set a clear universal color palette \n",
    "##comparison for fake/real postings based on employment type\n",
    "function = sns.countplot(data=df, y=\"function\", hue=\"fraudulent\", order = df.function.value_counts().index[:10])\n",
    "plt.title('Top 10 Business Functions (Real vs. Fake)') \n",
    "plt.ylabel('function')\n",
    "function.legend(title=\"real v. fake\", labels=[\"real\", \"fake\"], loc=\"lower right\")\n",
    "plt.show()\n",
    "\n",
    "##creates dicictionaries with the top 10 business function labels as keys to store counts of each label, and then their percent\n",
    "function_fraud_counts = {}\n",
    "function_not_fraud_counts = {}\n",
    "function_keys = [\"Other\", \"Education\", \"Health Care Provider\", \"Design\", \"Administrative\",\n",
    "                \"Marketing\", \"Customer Service\", \"Engineering\", \"Sales\", \"Information Technology\"]\n",
    "for level in function_keys:\n",
    "    function_fraud_counts.setdefault(level, [])\n",
    "    function_fraud_counts[level].append(0)\n",
    "    function_not_fraud_counts.setdefault(level, [])\n",
    "    function_not_fraud_counts[level].append(0)\n",
    "\n",
    "##counts number of fake postings that belong to which of the 10 business function keys  \n",
    "total_fraud_function_count = 0\n",
    "for index in fraudulent_data.function:\n",
    "    for key in function_fraud_counts:\n",
    "        if index == key:\n",
    "            function_fraud_counts[key][0] = function_fraud_counts[key][0] + 1\n",
    "            total_fraud_function_count += 1\n",
    "\n",
    "##counts number of real postings that belong to which of the 10 business function keys            \n",
    "total_not_fraud_function_count = 0\n",
    "for index in not_fraudulent_data.function:\n",
    "    for key in function_not_fraud_counts:\n",
    "        if index == key:\n",
    "            function_not_fraud_counts[key][0] = function_not_fraud_counts[key][0] + 1\n",
    "            total_not_fraud_function_count += 1\n",
    "\n",
    "##calculates the percent that each of the top 10 business functions' key makes up for fake postings, and then real ones\n",
    "for key in function_fraud_counts:\n",
    "    function_fraud_counts[key].append((function_fraud_counts[key][0]/total_fraud_function_count)*100)\n",
    "    function_not_fraud_counts[key].append((function_not_fraud_counts[key][0]/total_not_fraud_function_count)*100)\n",
    "    print(\"Fake \" + key + \": \" + str(function_fraud_counts[key][1]))\n",
    "    print(\"Real \" + key + \": \" + str(function_not_fraud_counts[key][1]))"
   ]
  },
  {
   "cell_type": "markdown",
   "metadata": {},
   "source": [
    "### EDA Insights\n",
    "\n",
    "* Most job offers were Full-time, followed by Contract work.\n",
    "\n",
    "* Most jobs required an experience of mid-senior level, followed closely by Entry Level and Associate Level. Which is similar. \n",
    "\n",
    "* Most education experience required is a Bachelor’s Degree, with very few requiring Master’s Degree. Which signals that **work experience matters more** than education experience, and that the bachelor degree is a piece paper that proves you’ve done something. \n",
    "\n",
    "* In this dataset, The top 3 Industries were all tech related.\n",
    "\n",
    "* The top 3 business functions were Information Technology, Sales, and Engineering.\n",
    "\n",
    "\n",
    "#### Future Plots\n",
    "1. A couple of word cloud images, people for some reason love world clouds.\n",
    "2. Plot of a map, showing the counts of jobs for each country. etc."
   ]
  },
  {
   "cell_type": "code",
   "execution_count": 30,
   "metadata": {
    "execution": {
     "iopub.execute_input": "2022-12-16T02:00:31.519948Z",
     "iopub.status.busy": "2022-12-16T02:00:31.519571Z",
     "iopub.status.idle": "2022-12-16T02:00:31.608683Z",
     "shell.execute_reply": "2022-12-16T02:00:31.607698Z",
     "shell.execute_reply.started": "2022-12-16T02:00:31.519916Z"
    }
   },
   "outputs": [],
   "source": [
    "#Make Copy\n",
    "df_5 = df_clean.copy()\n",
    "##changed parameter that was dropped, in following line, for every removed parameter discussed in paper \n",
    "#d#f_5 = df_5.drop(\"has_questions\", axis=1)\n",
    "\n",
    "# One Hot Encoding using Pandas get dummies function\n",
    "##removed and added back in these parameters depending on what parameter was being removed\n",
    "columns_to_1_hot = ['function','required_education','employment_type', 'industry', 'required_experience']\n",
    "\n",
    "for column in columns_to_1_hot:\n",
    "    encoded = pd.get_dummies(df_5[column])\n",
    "    df_5 = pd.concat([df_5, encoded], axis = 1)\n"
   ]
  },
  {
   "cell_type": "code",
   "execution_count": 31,
   "metadata": {
    "execution": {
     "iopub.execute_input": "2022-12-16T02:00:31.610378Z",
     "iopub.status.busy": "2022-12-16T02:00:31.610119Z",
     "iopub.status.idle": "2022-12-16T02:00:31.625703Z",
     "shell.execute_reply": "2022-12-16T02:00:31.624394Z",
     "shell.execute_reply.started": "2022-12-16T02:00:31.610349Z"
    }
   },
   "outputs": [],
   "source": [
    "columns_to_1_hot += ['title', 'location']\n",
    "    \n",
    "#droping the original columns that we just one hot encoded from\n",
    "df_5 = df_5.drop(columns_to_1_hot, axis = 1)"
   ]
  },
  {
   "cell_type": "code",
   "execution_count": 32,
   "metadata": {
    "execution": {
     "iopub.execute_input": "2022-12-16T02:00:31.630911Z",
     "iopub.status.busy": "2022-12-16T02:00:31.630621Z",
     "iopub.status.idle": "2022-12-16T02:00:31.660503Z",
     "shell.execute_reply": "2022-12-16T02:00:31.659168Z",
     "shell.execute_reply.started": "2022-12-16T02:00:31.630883Z"
    }
   },
   "outputs": [
    {
     "data": {
      "text/html": [
       "<div>\n",
       "<style scoped>\n",
       "    .dataframe tbody tr th:only-of-type {\n",
       "        vertical-align: middle;\n",
       "    }\n",
       "\n",
       "    .dataframe tbody tr th {\n",
       "        vertical-align: top;\n",
       "    }\n",
       "\n",
       "    .dataframe thead th {\n",
       "        text-align: right;\n",
       "    }\n",
       "</style>\n",
       "<table border=\"1\" class=\"dataframe\">\n",
       "  <thead>\n",
       "    <tr style=\"text-align: right;\">\n",
       "      <th></th>\n",
       "      <th>description</th>\n",
       "      <th>telecommuting</th>\n",
       "      <th>has_company_logo</th>\n",
       "      <th>has_questions</th>\n",
       "      <th>fraudulent</th>\n",
       "      <th>Accounting/Auditing</th>\n",
       "      <th>Administrative</th>\n",
       "      <th>Advertising</th>\n",
       "      <th>Art/Creative</th>\n",
       "      <th>Business Analyst</th>\n",
       "      <th>...</th>\n",
       "      <th>Wine and Spirits</th>\n",
       "      <th>Wireless</th>\n",
       "      <th>Writing and Editing</th>\n",
       "      <th>Associate</th>\n",
       "      <th>Director</th>\n",
       "      <th>Entry level</th>\n",
       "      <th>Executive</th>\n",
       "      <th>Internship</th>\n",
       "      <th>Mid-Senior level</th>\n",
       "      <th>Not Applicable</th>\n",
       "    </tr>\n",
       "  </thead>\n",
       "  <tbody>\n",
       "    <tr>\n",
       "      <th>0</th>\n",
       "      <td>Food52, a fast-growing, James Beard Award-winn...</td>\n",
       "      <td>0</td>\n",
       "      <td>1</td>\n",
       "      <td>0</td>\n",
       "      <td>0</td>\n",
       "      <td>0</td>\n",
       "      <td>0</td>\n",
       "      <td>0</td>\n",
       "      <td>0</td>\n",
       "      <td>0</td>\n",
       "      <td>...</td>\n",
       "      <td>0</td>\n",
       "      <td>0</td>\n",
       "      <td>0</td>\n",
       "      <td>0</td>\n",
       "      <td>0</td>\n",
       "      <td>0</td>\n",
       "      <td>0</td>\n",
       "      <td>1</td>\n",
       "      <td>0</td>\n",
       "      <td>0</td>\n",
       "    </tr>\n",
       "    <tr>\n",
       "      <th>1</th>\n",
       "      <td>Organised - Focused - Vibrant - Awesome!Do you...</td>\n",
       "      <td>0</td>\n",
       "      <td>1</td>\n",
       "      <td>0</td>\n",
       "      <td>0</td>\n",
       "      <td>0</td>\n",
       "      <td>0</td>\n",
       "      <td>0</td>\n",
       "      <td>0</td>\n",
       "      <td>0</td>\n",
       "      <td>...</td>\n",
       "      <td>0</td>\n",
       "      <td>0</td>\n",
       "      <td>0</td>\n",
       "      <td>0</td>\n",
       "      <td>0</td>\n",
       "      <td>0</td>\n",
       "      <td>0</td>\n",
       "      <td>0</td>\n",
       "      <td>0</td>\n",
       "      <td>1</td>\n",
       "    </tr>\n",
       "    <tr>\n",
       "      <th>2</th>\n",
       "      <td>Our client, located in Houston, is actively se...</td>\n",
       "      <td>0</td>\n",
       "      <td>1</td>\n",
       "      <td>0</td>\n",
       "      <td>0</td>\n",
       "      <td>0</td>\n",
       "      <td>0</td>\n",
       "      <td>0</td>\n",
       "      <td>0</td>\n",
       "      <td>0</td>\n",
       "      <td>...</td>\n",
       "      <td>0</td>\n",
       "      <td>0</td>\n",
       "      <td>0</td>\n",
       "      <td>0</td>\n",
       "      <td>0</td>\n",
       "      <td>0</td>\n",
       "      <td>0</td>\n",
       "      <td>0</td>\n",
       "      <td>1</td>\n",
       "      <td>0</td>\n",
       "    </tr>\n",
       "    <tr>\n",
       "      <th>3</th>\n",
       "      <td>THE COMPANY: ESRI – Environmental Systems Rese...</td>\n",
       "      <td>0</td>\n",
       "      <td>1</td>\n",
       "      <td>0</td>\n",
       "      <td>0</td>\n",
       "      <td>0</td>\n",
       "      <td>0</td>\n",
       "      <td>0</td>\n",
       "      <td>0</td>\n",
       "      <td>0</td>\n",
       "      <td>...</td>\n",
       "      <td>0</td>\n",
       "      <td>0</td>\n",
       "      <td>0</td>\n",
       "      <td>0</td>\n",
       "      <td>0</td>\n",
       "      <td>0</td>\n",
       "      <td>0</td>\n",
       "      <td>0</td>\n",
       "      <td>1</td>\n",
       "      <td>0</td>\n",
       "    </tr>\n",
       "    <tr>\n",
       "      <th>4</th>\n",
       "      <td>JOB TITLE: Itemization Review ManagerLOCATION:...</td>\n",
       "      <td>0</td>\n",
       "      <td>1</td>\n",
       "      <td>1</td>\n",
       "      <td>0</td>\n",
       "      <td>0</td>\n",
       "      <td>0</td>\n",
       "      <td>0</td>\n",
       "      <td>0</td>\n",
       "      <td>0</td>\n",
       "      <td>...</td>\n",
       "      <td>0</td>\n",
       "      <td>0</td>\n",
       "      <td>0</td>\n",
       "      <td>0</td>\n",
       "      <td>0</td>\n",
       "      <td>0</td>\n",
       "      <td>0</td>\n",
       "      <td>0</td>\n",
       "      <td>1</td>\n",
       "      <td>0</td>\n",
       "    </tr>\n",
       "  </tbody>\n",
       "</table>\n",
       "<p>5 rows × 198 columns</p>\n",
       "</div>"
      ],
      "text/plain": [
       "                                         description  telecommuting  \\\n",
       "0  Food52, a fast-growing, James Beard Award-winn...              0   \n",
       "1  Organised - Focused - Vibrant - Awesome!Do you...              0   \n",
       "2  Our client, located in Houston, is actively se...              0   \n",
       "3  THE COMPANY: ESRI – Environmental Systems Rese...              0   \n",
       "4  JOB TITLE: Itemization Review ManagerLOCATION:...              0   \n",
       "\n",
       "   has_company_logo  has_questions  fraudulent  Accounting/Auditing  \\\n",
       "0                 1              0           0                    0   \n",
       "1                 1              0           0                    0   \n",
       "2                 1              0           0                    0   \n",
       "3                 1              0           0                    0   \n",
       "4                 1              1           0                    0   \n",
       "\n",
       "   Administrative  Advertising  Art/Creative  Business Analyst  ...  \\\n",
       "0               0            0             0                 0  ...   \n",
       "1               0            0             0                 0  ...   \n",
       "2               0            0             0                 0  ...   \n",
       "3               0            0             0                 0  ...   \n",
       "4               0            0             0                 0  ...   \n",
       "\n",
       "   Wine and Spirits  Wireless  Writing and Editing  Associate  Director  \\\n",
       "0                 0         0                    0          0         0   \n",
       "1                 0         0                    0          0         0   \n",
       "2                 0         0                    0          0         0   \n",
       "3                 0         0                    0          0         0   \n",
       "4                 0         0                    0          0         0   \n",
       "\n",
       "   Entry level  Executive  Internship  Mid-Senior level  Not Applicable  \n",
       "0            0          0           1                 0               0  \n",
       "1            0          0           0                 0               1  \n",
       "2            0          0           0                 1               0  \n",
       "3            0          0           0                 1               0  \n",
       "4            0          0           0                 1               0  \n",
       "\n",
       "[5 rows x 198 columns]"
      ]
     },
     "execution_count": 32,
     "metadata": {},
     "output_type": "execute_result"
    }
   ],
   "source": [
    "df_5.head()"
   ]
  },
  {
   "cell_type": "markdown",
   "metadata": {},
   "source": [
    "### Handling the description column \n",
    "\n",
    "First of all we need to clean up our text data a little bit. Now let us creat some helper funcitons."
   ]
  },
  {
   "cell_type": "code",
   "execution_count": 33,
   "metadata": {
    "execution": {
     "iopub.execute_input": "2022-12-16T02:00:31.662396Z",
     "iopub.status.busy": "2022-12-16T02:00:31.662102Z",
     "iopub.status.idle": "2022-12-16T02:00:31.673213Z",
     "shell.execute_reply": "2022-12-16T02:00:31.670269Z",
     "shell.execute_reply.started": "2022-12-16T02:00:31.662364Z"
    }
   },
   "outputs": [],
   "source": [
    "def tokenizer(text):\n",
    "    \n",
    "    #All characters in this string will be converted to lowercase\n",
    "    text = text.lower()\n",
    "    \n",
    "    #Removing sentence punctuations\n",
    "    for punctuation_mark in string.punctuation:\n",
    "        text = text.replace(punctuation_mark,'')\n",
    "    \n",
    "    #Creating our list of tokens\n",
    "    list_of_tokens = text.split(' ')\n",
    "    #Creating our cleaned tokens list \n",
    "    cleaned_tokens = []\n",
    "    #Intatiating our Lemmatizer\n",
    "    lemmatizer = WordNetLemmatizer()\n",
    "    \n",
    "    #Removing Stop Words in our list of tokens and any tokens that happens to be empty strings\n",
    "    for token in list_of_tokens:\n",
    "        if (not token in stop_words) and (token != ''):\n",
    "            #lemmatizing our token\n",
    "            token_lemmatized = lemmatizer.lemmatize(token)\n",
    "            #appending our finalized cleaned token\n",
    "            cleaned_tokens.append(token_lemmatized)\n",
    "    \n",
    "    return cleaned_tokens"
   ]
  },
  {
   "cell_type": "markdown",
   "metadata": {},
   "source": [
    "## TfidfVectorizer\n",
    "\n",
    "I will need to run a tfidf vectorizer on our description data, and append the results to our DataFrame. "
   ]
  },
  {
   "cell_type": "code",
   "execution_count": 34,
   "metadata": {
    "execution": {
     "iopub.execute_input": "2022-12-16T02:00:31.676007Z",
     "iopub.status.busy": "2022-12-16T02:00:31.675241Z",
     "iopub.status.idle": "2022-12-16T02:01:21.861806Z",
     "shell.execute_reply": "2022-12-16T02:01:21.860751Z",
     "shell.execute_reply.started": "2022-12-16T02:00:31.675957Z"
    }
   },
   "outputs": [],
   "source": [
    "df_6 = df_5.copy()\n",
    "\n",
    "#Instatiating our tfidf vectorizer\n",
    "tfidf = TfidfVectorizer(tokenizer = tokenizer, min_df = 0.05, ngram_range=(1,3))\n",
    "#Fit_transform our description \n",
    "tfidf_features = tfidf.fit_transform(df_6['description']) #this will create a sparse matrix"
   ]
  },
  {
   "cell_type": "code",
   "execution_count": 35,
   "metadata": {
    "execution": {
     "iopub.execute_input": "2022-12-16T02:01:21.863880Z",
     "iopub.status.busy": "2022-12-16T02:01:21.863537Z",
     "iopub.status.idle": "2022-12-16T02:01:22.238107Z",
     "shell.execute_reply": "2022-12-16T02:01:22.236988Z",
     "shell.execute_reply.started": "2022-12-16T02:01:21.863839Z"
    }
   },
   "outputs": [],
   "source": [
    "#I want to append this sparse matrix to the original pandas Dataframe\n",
    "tfidf_vect_df = pd.DataFrame(tfidf_features.todense(), columns = tfidf.get_feature_names())\n",
    "\n",
    "df_tfidf = pd.concat([df_6, tfidf_vect_df], axis = 1)\n",
    "\n",
    "#Minor Cleaning steps after appending our tfidf results to our Dataframe, we will need to drop the description column. \n",
    "df_tfidf = df_tfidf.drop(['description'], axis = 1)\n",
    "df_tfidf = df_tfidf.dropna()"
   ]
  },
  {
   "cell_type": "code",
   "execution_count": 36,
   "metadata": {
    "execution": {
     "iopub.execute_input": "2022-12-16T02:01:22.239893Z",
     "iopub.status.busy": "2022-12-16T02:01:22.239621Z",
     "iopub.status.idle": "2022-12-16T02:01:22.272087Z",
     "shell.execute_reply": "2022-12-16T02:01:22.270726Z",
     "shell.execute_reply.started": "2022-12-16T02:01:22.239853Z"
    }
   },
   "outputs": [
    {
     "data": {
      "text/html": [
       "<div>\n",
       "<style scoped>\n",
       "    .dataframe tbody tr th:only-of-type {\n",
       "        vertical-align: middle;\n",
       "    }\n",
       "\n",
       "    .dataframe tbody tr th {\n",
       "        vertical-align: top;\n",
       "    }\n",
       "\n",
       "    .dataframe thead th {\n",
       "        text-align: right;\n",
       "    }\n",
       "</style>\n",
       "<table border=\"1\" class=\"dataframe\">\n",
       "  <thead>\n",
       "    <tr style=\"text-align: right;\">\n",
       "      <th></th>\n",
       "      <th>telecommuting</th>\n",
       "      <th>has_company_logo</th>\n",
       "      <th>has_questions</th>\n",
       "      <th>fraudulent</th>\n",
       "      <th>Accounting/Auditing</th>\n",
       "      <th>Administrative</th>\n",
       "      <th>Advertising</th>\n",
       "      <th>Art/Creative</th>\n",
       "      <th>Business Analyst</th>\n",
       "      <th>Business Development</th>\n",
       "      <th>...</th>\n",
       "      <th>write</th>\n",
       "      <th>writing</th>\n",
       "      <th>written</th>\n",
       "      <th>written communication</th>\n",
       "      <th>written verbal</th>\n",
       "      <th>year</th>\n",
       "      <th>year experience</th>\n",
       "      <th>you’ll</th>\n",
       "      <th></th>\n",
       "      <th>–</th>\n",
       "    </tr>\n",
       "  </thead>\n",
       "  <tbody>\n",
       "    <tr>\n",
       "      <th>0</th>\n",
       "      <td>0.0</td>\n",
       "      <td>1.0</td>\n",
       "      <td>0.0</td>\n",
       "      <td>0.0</td>\n",
       "      <td>0.0</td>\n",
       "      <td>0.0</td>\n",
       "      <td>0.0</td>\n",
       "      <td>0.0</td>\n",
       "      <td>0.0</td>\n",
       "      <td>0.0</td>\n",
       "      <td>...</td>\n",
       "      <td>0.0</td>\n",
       "      <td>0.0</td>\n",
       "      <td>0.0</td>\n",
       "      <td>0.0</td>\n",
       "      <td>0.0</td>\n",
       "      <td>0.0</td>\n",
       "      <td>0.0</td>\n",
       "      <td>0.0</td>\n",
       "      <td>0.0</td>\n",
       "      <td>0.0</td>\n",
       "    </tr>\n",
       "    <tr>\n",
       "      <th>1</th>\n",
       "      <td>0.0</td>\n",
       "      <td>1.0</td>\n",
       "      <td>0.0</td>\n",
       "      <td>0.0</td>\n",
       "      <td>0.0</td>\n",
       "      <td>0.0</td>\n",
       "      <td>0.0</td>\n",
       "      <td>0.0</td>\n",
       "      <td>0.0</td>\n",
       "      <td>0.0</td>\n",
       "      <td>...</td>\n",
       "      <td>0.0</td>\n",
       "      <td>0.0</td>\n",
       "      <td>0.0</td>\n",
       "      <td>0.0</td>\n",
       "      <td>0.0</td>\n",
       "      <td>0.0</td>\n",
       "      <td>0.0</td>\n",
       "      <td>0.0</td>\n",
       "      <td>0.0</td>\n",
       "      <td>0.0</td>\n",
       "    </tr>\n",
       "    <tr>\n",
       "      <th>2</th>\n",
       "      <td>0.0</td>\n",
       "      <td>1.0</td>\n",
       "      <td>0.0</td>\n",
       "      <td>0.0</td>\n",
       "      <td>0.0</td>\n",
       "      <td>0.0</td>\n",
       "      <td>0.0</td>\n",
       "      <td>0.0</td>\n",
       "      <td>0.0</td>\n",
       "      <td>0.0</td>\n",
       "      <td>...</td>\n",
       "      <td>0.0</td>\n",
       "      <td>0.0</td>\n",
       "      <td>0.0</td>\n",
       "      <td>0.0</td>\n",
       "      <td>0.0</td>\n",
       "      <td>0.0</td>\n",
       "      <td>0.0</td>\n",
       "      <td>0.0</td>\n",
       "      <td>0.0</td>\n",
       "      <td>0.0</td>\n",
       "    </tr>\n",
       "  </tbody>\n",
       "</table>\n",
       "<p>3 rows × 688 columns</p>\n",
       "</div>"
      ],
      "text/plain": [
       "   telecommuting  has_company_logo  has_questions  fraudulent  \\\n",
       "0            0.0               1.0            0.0         0.0   \n",
       "1            0.0               1.0            0.0         0.0   \n",
       "2            0.0               1.0            0.0         0.0   \n",
       "\n",
       "   Accounting/Auditing  Administrative  Advertising  Art/Creative  \\\n",
       "0                  0.0             0.0          0.0           0.0   \n",
       "1                  0.0             0.0          0.0           0.0   \n",
       "2                  0.0             0.0          0.0           0.0   \n",
       "\n",
       "   Business Analyst  Business Development  ...  write  writing  written  \\\n",
       "0               0.0                   0.0  ...    0.0      0.0      0.0   \n",
       "1               0.0                   0.0  ...    0.0      0.0      0.0   \n",
       "2               0.0                   0.0  ...    0.0      0.0      0.0   \n",
       "\n",
       "   written communication  written verbal  year  year experience  you’ll       \\\n",
       "0                    0.0             0.0   0.0              0.0     0.0  0.0   \n",
       "1                    0.0             0.0   0.0              0.0     0.0  0.0   \n",
       "2                    0.0             0.0   0.0              0.0     0.0  0.0   \n",
       "\n",
       "     –  \n",
       "0  0.0  \n",
       "1  0.0  \n",
       "2  0.0  \n",
       "\n",
       "[3 rows x 688 columns]"
      ]
     },
     "execution_count": 36,
     "metadata": {},
     "output_type": "execute_result"
    }
   ],
   "source": [
    "df_tfidf.head(3)"
   ]
  },
  {
   "cell_type": "markdown",
   "metadata": {},
   "source": [
    "## Count Vectorizer\n",
    "Now let's do a similar procedure with a Count Vectorizer, so we can compare the two vectorizers in performance later on."
   ]
  },
  {
   "cell_type": "code",
   "execution_count": 37,
   "metadata": {
    "execution": {
     "iopub.execute_input": "2022-12-16T02:01:22.274066Z",
     "iopub.status.busy": "2022-12-16T02:01:22.273750Z",
     "iopub.status.idle": "2022-12-16T02:02:15.122470Z",
     "shell.execute_reply": "2022-12-16T02:02:15.121579Z",
     "shell.execute_reply.started": "2022-12-16T02:01:22.274033Z"
    }
   },
   "outputs": [],
   "source": [
    "#Instatiating our CountVectorizer\n",
    "count_vect = CountVectorizer(tokenizer = tokenizer, min_df = 0.05, ngram_range=(1,3))\n",
    "#Fit_transform our description \n",
    "count_vect_features = count_vect.fit_transform(df_6['description']) #this will create a sparse matrix\n",
    "\n",
    "count_vect_df = pd.DataFrame(count_vect_features.todense(), columns = count_vect.get_feature_names())\n",
    "\n",
    "df_count_vect = pd.concat([df_6, count_vect_df], axis = 1)\n",
    "df_count_vect = df_count_vect.drop(['description'], axis = 1)\n",
    "df_count_vect = df_count_vect.dropna()"
   ]
  },
  {
   "cell_type": "code",
   "execution_count": 38,
   "metadata": {
    "execution": {
     "iopub.execute_input": "2022-12-16T02:02:15.124027Z",
     "iopub.status.busy": "2022-12-16T02:02:15.123749Z",
     "iopub.status.idle": "2022-12-16T02:02:15.155693Z",
     "shell.execute_reply": "2022-12-16T02:02:15.154668Z",
     "shell.execute_reply.started": "2022-12-16T02:02:15.123994Z"
    }
   },
   "outputs": [
    {
     "data": {
      "text/html": [
       "<div>\n",
       "<style scoped>\n",
       "    .dataframe tbody tr th:only-of-type {\n",
       "        vertical-align: middle;\n",
       "    }\n",
       "\n",
       "    .dataframe tbody tr th {\n",
       "        vertical-align: top;\n",
       "    }\n",
       "\n",
       "    .dataframe thead th {\n",
       "        text-align: right;\n",
       "    }\n",
       "</style>\n",
       "<table border=\"1\" class=\"dataframe\">\n",
       "  <thead>\n",
       "    <tr style=\"text-align: right;\">\n",
       "      <th></th>\n",
       "      <th>telecommuting</th>\n",
       "      <th>has_company_logo</th>\n",
       "      <th>has_questions</th>\n",
       "      <th>fraudulent</th>\n",
       "      <th>Accounting/Auditing</th>\n",
       "      <th>Administrative</th>\n",
       "      <th>Advertising</th>\n",
       "      <th>Art/Creative</th>\n",
       "      <th>Business Analyst</th>\n",
       "      <th>Business Development</th>\n",
       "      <th>...</th>\n",
       "      <th>write</th>\n",
       "      <th>writing</th>\n",
       "      <th>written</th>\n",
       "      <th>written communication</th>\n",
       "      <th>written verbal</th>\n",
       "      <th>year</th>\n",
       "      <th>year experience</th>\n",
       "      <th>you’ll</th>\n",
       "      <th></th>\n",
       "      <th>–</th>\n",
       "    </tr>\n",
       "  </thead>\n",
       "  <tbody>\n",
       "    <tr>\n",
       "      <th>0</th>\n",
       "      <td>0.0</td>\n",
       "      <td>1.0</td>\n",
       "      <td>0.0</td>\n",
       "      <td>0.0</td>\n",
       "      <td>0.0</td>\n",
       "      <td>0.0</td>\n",
       "      <td>0.0</td>\n",
       "      <td>0.0</td>\n",
       "      <td>0.0</td>\n",
       "      <td>0.0</td>\n",
       "      <td>...</td>\n",
       "      <td>0.0</td>\n",
       "      <td>0.0</td>\n",
       "      <td>0.0</td>\n",
       "      <td>0.0</td>\n",
       "      <td>0.0</td>\n",
       "      <td>0.0</td>\n",
       "      <td>0.0</td>\n",
       "      <td>0.0</td>\n",
       "      <td>0.0</td>\n",
       "      <td>0.0</td>\n",
       "    </tr>\n",
       "    <tr>\n",
       "      <th>1</th>\n",
       "      <td>0.0</td>\n",
       "      <td>1.0</td>\n",
       "      <td>0.0</td>\n",
       "      <td>0.0</td>\n",
       "      <td>0.0</td>\n",
       "      <td>0.0</td>\n",
       "      <td>0.0</td>\n",
       "      <td>0.0</td>\n",
       "      <td>0.0</td>\n",
       "      <td>0.0</td>\n",
       "      <td>...</td>\n",
       "      <td>0.0</td>\n",
       "      <td>0.0</td>\n",
       "      <td>0.0</td>\n",
       "      <td>0.0</td>\n",
       "      <td>0.0</td>\n",
       "      <td>0.0</td>\n",
       "      <td>0.0</td>\n",
       "      <td>0.0</td>\n",
       "      <td>0.0</td>\n",
       "      <td>0.0</td>\n",
       "    </tr>\n",
       "    <tr>\n",
       "      <th>2</th>\n",
       "      <td>0.0</td>\n",
       "      <td>1.0</td>\n",
       "      <td>0.0</td>\n",
       "      <td>0.0</td>\n",
       "      <td>0.0</td>\n",
       "      <td>0.0</td>\n",
       "      <td>0.0</td>\n",
       "      <td>0.0</td>\n",
       "      <td>0.0</td>\n",
       "      <td>0.0</td>\n",
       "      <td>...</td>\n",
       "      <td>0.0</td>\n",
       "      <td>0.0</td>\n",
       "      <td>0.0</td>\n",
       "      <td>0.0</td>\n",
       "      <td>0.0</td>\n",
       "      <td>0.0</td>\n",
       "      <td>0.0</td>\n",
       "      <td>0.0</td>\n",
       "      <td>0.0</td>\n",
       "      <td>0.0</td>\n",
       "    </tr>\n",
       "  </tbody>\n",
       "</table>\n",
       "<p>3 rows × 688 columns</p>\n",
       "</div>"
      ],
      "text/plain": [
       "   telecommuting  has_company_logo  has_questions  fraudulent  \\\n",
       "0            0.0               1.0            0.0         0.0   \n",
       "1            0.0               1.0            0.0         0.0   \n",
       "2            0.0               1.0            0.0         0.0   \n",
       "\n",
       "   Accounting/Auditing  Administrative  Advertising  Art/Creative  \\\n",
       "0                  0.0             0.0          0.0           0.0   \n",
       "1                  0.0             0.0          0.0           0.0   \n",
       "2                  0.0             0.0          0.0           0.0   \n",
       "\n",
       "   Business Analyst  Business Development  ...  write  writing  written  \\\n",
       "0               0.0                   0.0  ...    0.0      0.0      0.0   \n",
       "1               0.0                   0.0  ...    0.0      0.0      0.0   \n",
       "2               0.0                   0.0  ...    0.0      0.0      0.0   \n",
       "\n",
       "   written communication  written verbal  year  year experience  you’ll       \\\n",
       "0                    0.0             0.0   0.0              0.0     0.0  0.0   \n",
       "1                    0.0             0.0   0.0              0.0     0.0  0.0   \n",
       "2                    0.0             0.0   0.0              0.0     0.0  0.0   \n",
       "\n",
       "     –  \n",
       "0  0.0  \n",
       "1  0.0  \n",
       "2  0.0  \n",
       "\n",
       "[3 rows x 688 columns]"
      ]
     },
     "execution_count": 38,
     "metadata": {},
     "output_type": "execute_result"
    }
   ],
   "source": [
    "df_count_vect.head(3)"
   ]
  },
  {
   "cell_type": "markdown",
   "metadata": {},
   "source": [
    "Great, we now have two different dataframes with two different vectorizers preprocessing our description data. I will hold out on the PCA to see if I need it. I will only do it if the modelimg takes too long. \n",
    "\n",
    "**I will conduct the following steps:**\n",
    "1. Logistic Regression w/ Tfidf\n",
    "2. Logistic Regression w/ Count Vectorizer\n",
    "3. I will evaluate both models and determine which is better, and for simplicity stake pick the superior vectorizer for the other models I would like to run."
   ]
  },
  {
   "cell_type": "markdown",
   "metadata": {},
   "source": [
    "# Model 1 - Logistic Regresion w/ Tfidf"
   ]
  },
  {
   "cell_type": "code",
   "execution_count": 39,
   "metadata": {
    "execution": {
     "iopub.execute_input": "2022-12-16T02:02:15.157913Z",
     "iopub.status.busy": "2022-12-16T02:02:15.157527Z",
     "iopub.status.idle": "2022-12-16T02:02:15.245132Z",
     "shell.execute_reply": "2022-12-16T02:02:15.243559Z",
     "shell.execute_reply.started": "2022-12-16T02:02:15.157868Z"
    }
   },
   "outputs": [],
   "source": [
    "target = df_tfidf.fraudulent\n",
    "features = df_tfidf.drop(['fraudulent'], axis = 1)\n",
    "    \n",
    "\n",
    "#Spliting our Data into train and holdout sets to test our models\n",
    "X_train, X_hold, y_train, y_hold = train_test_split(features, target, test_size = 0.1,\n",
    "                                                    stratify = target, random_state = 42)"
   ]
  },
  {
   "cell_type": "markdown",
   "metadata": {},
   "source": [
    "Interesting, using our holdout data our logistic regression with the tfidf data, had an AUC score of 0.58. Which is okay, that will be our baseline model. "
   ]
  },
  {
   "cell_type": "markdown",
   "metadata": {},
   "source": [
    "# Model 7 - Neural Nets - MLPClassifier w/ solver = 'adam'"
   ]
  },
  {
   "cell_type": "code",
   "execution_count": 40,
   "metadata": {
    "execution": {
     "iopub.execute_input": "2022-12-16T02:02:34.735263Z",
     "iopub.status.busy": "2022-12-16T02:02:34.732985Z",
     "iopub.status.idle": "2022-12-16T02:02:34.746727Z",
     "shell.execute_reply": "2022-12-16T02:02:34.744787Z",
     "shell.execute_reply.started": "2022-12-16T02:02:34.735175Z"
    }
   },
   "outputs": [],
   "source": [
    "#Instatiatie our MLPClassifier\n",
    "mlp = MLPClassifier(solver='adam', \n",
    "                    activation = 'relu',\n",
    "                   hidden_layer_sizes = (100,50,30), \n",
    "                    max_iter = 1000)"
   ]
  },
  {
   "cell_type": "code",
   "execution_count": 41,
   "metadata": {
    "execution": {
     "iopub.execute_input": "2022-12-16T02:02:34.750454Z",
     "iopub.status.busy": "2022-12-16T02:02:34.749630Z",
     "iopub.status.idle": "2022-12-16T02:02:51.871927Z",
     "shell.execute_reply": "2022-12-16T02:02:51.870161Z",
     "shell.execute_reply.started": "2022-12-16T02:02:34.750401Z"
    }
   },
   "outputs": [
    {
     "data": {
      "text/plain": [
       "MLPClassifier(activation='relu', alpha=0.0001, batch_size='auto', beta_1=0.9,\n",
       "              beta_2=0.999, early_stopping=False, epsilon=1e-08,\n",
       "              hidden_layer_sizes=(100, 50, 30), learning_rate='constant',\n",
       "              learning_rate_init=0.001, max_fun=15000, max_iter=1000,\n",
       "              momentum=0.9, n_iter_no_change=10, nesterovs_momentum=True,\n",
       "              power_t=0.5, random_state=None, shuffle=True, solver='adam',\n",
       "              tol=0.0001, validation_fraction=0.1, verbose=False,\n",
       "              warm_start=False)"
      ]
     },
     "execution_count": 41,
     "metadata": {},
     "output_type": "execute_result"
    }
   ],
   "source": [
    "mlp.fit(X_train, y_train)"
   ]
  },
  {
   "cell_type": "code",
   "execution_count": 42,
   "metadata": {
    "execution": {
     "iopub.execute_input": "2022-12-16T02:02:51.880281Z",
     "iopub.status.busy": "2022-12-16T02:02:51.879707Z",
     "iopub.status.idle": "2022-12-16T02:02:51.925346Z",
     "shell.execute_reply": "2022-12-16T02:02:51.924320Z",
     "shell.execute_reply.started": "2022-12-16T02:02:51.880209Z"
    }
   },
   "outputs": [
    {
     "name": "stdout",
     "output_type": "stream",
     "text": [
      "0.6943299369993\n",
      "              precision    recall  f1-score   support\n",
      "\n",
      "         0.0       0.98      0.99      0.99      1196\n",
      "         1.0       0.68      0.40      0.50        43\n",
      "\n",
      "    accuracy                           0.97      1239\n",
      "   macro avg       0.83      0.69      0.74      1239\n",
      "weighted avg       0.97      0.97      0.97      1239\n",
      "\n"
     ]
    }
   ],
   "source": [
    "mlp_pred = mlp.predict(X_hold)\n",
    "\n",
    "#Printing out our evaluation metrics\n",
    "print(roc_auc_score(y_hold, mlp_pred))\n",
    "print(classification_report(y_hold, mlp_pred))"
   ]
  },
  {
   "cell_type": "markdown",
   "metadata": {},
   "source": [
    "Using the adam solver made our model perform even better! **an AUC score of 0.72! **"
   ]
  }
 ],
 "metadata": {
  "kernelspec": {
   "display_name": "Python 3",
   "language": "python",
   "name": "python3"
  },
  "language_info": {
   "codemirror_mode": {
    "name": "ipython",
    "version": 3
   },
   "file_extension": ".py",
   "mimetype": "text/x-python",
   "name": "python",
   "nbconvert_exporter": "python",
   "pygments_lexer": "ipython3",
   "version": "3.6.6"
  }
 },
 "nbformat": 4,
 "nbformat_minor": 4
}
